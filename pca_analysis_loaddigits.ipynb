{
 "metadata": {
  "language_info": {
   "codemirror_mode": {
    "name": "ipython",
    "version": 3
   },
   "file_extension": ".py",
   "mimetype": "text/x-python",
   "name": "python",
   "nbconvert_exporter": "python",
   "pygments_lexer": "ipython3",
   "version": "3.8.5-final"
  },
  "orig_nbformat": 2,
  "kernelspec": {
   "name": "python3",
   "display_name": "Python 3.8.5 64-bit (conda)",
   "metadata": {
    "interpreter": {
     "hash": "b3ba2566441a7c06988d0923437866b63cedc61552a5af99d1f4fb67d367b25f"
    }
   }
  }
 },
 "nbformat": 4,
 "nbformat_minor": 2,
 "cells": [
  {
   "cell_type": "code",
   "execution_count": 3,
   "metadata": {},
   "outputs": [],
   "source": [
    "from sklearn.datasets import load_digits\n",
    "import numpy as np\n",
    "import pandas as pd"
   ]
  },
  {
   "cell_type": "code",
   "execution_count": 4,
   "metadata": {},
   "outputs": [],
   "source": [
    "df = load_digits()\n"
   ]
  },
  {
   "cell_type": "code",
   "execution_count": 5,
   "metadata": {},
   "outputs": [
    {
     "output_type": "execute_result",
     "data": {
      "text/plain": [
       "['.. _digits_dataset:',\n",
       " '',\n",
       " 'Optical recognition of handwritten digits dataset',\n",
       " '--------------------------------------------------',\n",
       " '',\n",
       " '**Data Set Characteristics:**',\n",
       " '',\n",
       " '    :Number of Instances: 5620',\n",
       " '    :Number of Attributes: 64',\n",
       " '    :Attribute Information: 8x8 image of integer pixels in the range 0..16.',\n",
       " '    :Missing Attribute Values: None',\n",
       " \"    :Creator: E. Alpaydin (alpaydin '@' boun.edu.tr)\",\n",
       " '    :Date: July; 1998',\n",
       " '',\n",
       " 'This is a copy of the test set of the UCI ML hand-written digits datasets',\n",
       " 'https://archive.ics.uci.edu/ml/datasets/Optical+Recognition+of+Handwritten+Digits',\n",
       " '',\n",
       " 'The data set contains images of hand-written digits: 10 classes where',\n",
       " 'each class refers to a digit.',\n",
       " '',\n",
       " 'Preprocessing programs made available by NIST were used to extract',\n",
       " 'normalized bitmaps of handwritten digits from a preprinted form. From a',\n",
       " 'total of 43 people, 30 contributed to the training set and different 13',\n",
       " 'to the test set. 32x32 bitmaps are divided into nonoverlapping blocks of',\n",
       " '4x4 and the number of on pixels are counted in each block. This generates',\n",
       " 'an input matrix of 8x8 where each element is an integer in the range',\n",
       " '0..16. This reduces dimensionality and gives invariance to small',\n",
       " 'distortions.',\n",
       " '',\n",
       " 'For info on NIST preprocessing routines, see M. D. Garris, J. L. Blue, G.',\n",
       " 'T. Candela, D. L. Dimmick, J. Geist, P. J. Grother, S. A. Janet, and C.',\n",
       " 'L. Wilson, NIST Form-Based Handprint Recognition System, NISTIR 5469,',\n",
       " '1994.',\n",
       " '',\n",
       " '.. topic:: References',\n",
       " '',\n",
       " '  - C. Kaynak (1995) Methods of Combining Multiple Classifiers and Their',\n",
       " '    Applications to Handwritten Digit Recognition, MSc Thesis, Institute of',\n",
       " '    Graduate Studies in Science and Engineering, Bogazici University.',\n",
       " '  - E. Alpaydin, C. Kaynak (1998) Cascading Classifiers, Kybernetika.',\n",
       " '  - Ken Tang and Ponnuthurai N. Suganthan and Xi Yao and A. Kai Qin.',\n",
       " '    Linear dimensionalityreduction using relevance weighted LDA. School of',\n",
       " '    Electrical and Electronic Engineering Nanyang Technological University.',\n",
       " '    2005.',\n",
       " '  - Claudio Gentile. A New Approximate Maximal Margin Classification',\n",
       " '    Algorithm. NIPS. 2000.']"
      ]
     },
     "metadata": {},
     "execution_count": 5
    }
   ],
   "source": [
    "df.DESCR.split('\\n')"
   ]
  },
  {
   "cell_type": "code",
   "execution_count": 7,
   "metadata": {},
   "outputs": [],
   "source": [
    "features = df.data\n",
    "target = df.target"
   ]
  },
  {
   "cell_type": "code",
   "execution_count": 8,
   "metadata": {},
   "outputs": [
    {
     "output_type": "execute_result",
     "data": {
      "text/plain": [
       "((1797, 64), (1797,))"
      ]
     },
     "metadata": {},
     "execution_count": 8
    }
   ],
   "source": [
    "features.shape,target.shape"
   ]
  },
  {
   "cell_type": "code",
   "execution_count": 12,
   "metadata": {},
   "outputs": [],
   "source": [
    "from sklearn.model_selection import train_test_split\n",
    "from sklearn.linear_model import LogisticRegression"
   ]
  },
  {
   "cell_type": "code",
   "execution_count": 14,
   "metadata": {},
   "outputs": [
    {
     "output_type": "stream",
     "name": "stdout",
     "text": [
      "(1078, 64)\n(719, 64)\n(1078,)\n(719,)\n"
     ]
    }
   ],
   "source": [
    "X_train, X_test, y_train, y_test = train_test_split(features, target, train_size = 0.6, random_state = 3)\n",
    "print(X_train.shape)\n",
    "print(X_test.shape)\n",
    "print(y_train.shape)\n",
    "print(y_test.shape)"
   ]
  },
  {
   "cell_type": "code",
   "execution_count": 15,
   "metadata": {},
   "outputs": [],
   "source": [
    "my_model = LogisticRegression()"
   ]
  },
  {
   "cell_type": "code",
   "execution_count": 16,
   "metadata": {},
   "outputs": [
    {
     "output_type": "execute_result",
     "data": {
      "text/plain": [
       "LogisticRegression()"
      ]
     },
     "metadata": {},
     "execution_count": 16
    }
   ],
   "source": [
    "my_model.fit(X_train,y_train)"
   ]
  },
  {
   "cell_type": "code",
   "execution_count": 17,
   "metadata": {},
   "outputs": [],
   "source": [
    "preds = my_model.predict(X_test)"
   ]
  },
  {
   "cell_type": "code",
   "execution_count": 18,
   "metadata": {},
   "outputs": [],
   "source": [
    "from sklearn.metrics import accuracy_score,confusion_matrix"
   ]
  },
  {
   "cell_type": "code",
   "execution_count": 19,
   "metadata": {},
   "outputs": [
    {
     "output_type": "stream",
     "name": "stdout",
     "text": [
      "0.9582753824756607\n"
     ]
    }
   ],
   "source": [
    "print(accuracy_score(y_test, preds))"
   ]
  },
  {
   "cell_type": "code",
   "execution_count": 20,
   "metadata": {},
   "outputs": [
    {
     "output_type": "stream",
     "name": "stdout",
     "text": [
      "[[74  0  0  0  1  0  0  0  0  0]\n [ 0 72  0  0  0  0  0  0  2  1]\n [ 0  1 77  0  0  0  0  0  0  0]\n [ 0  0  2 66  0  0  0  0  1  0]\n [ 0  4  0  0 79  0  1  1  1  0]\n [ 0  1  0  0  1 60  0  0  0  2]\n [ 0  1  0  0  0  1 55  0  1  0]\n [ 0  0  0  1  0  0  0 73  2  0]\n [ 0  1  0  0  0  1  0  0 66  0]\n [ 0  0  0  0  1  1  0  0  1 67]]\n"
     ]
    }
   ],
   "source": [
    "print(confusion_matrix(y_test, preds))"
   ]
  },
  {
   "cell_type": "code",
   "execution_count": 21,
   "metadata": {},
   "outputs": [],
   "source": [
    "import seaborn as sns"
   ]
  },
  {
   "cell_type": "code",
   "execution_count": 26,
   "metadata": {},
   "outputs": [],
   "source": [
    "from sklearn.decomposition import PCA"
   ]
  },
  {
   "cell_type": "code",
   "execution_count": 30,
   "metadata": {},
   "outputs": [],
   "source": [
    "pca = PCA(n_components=.95)"
   ]
  },
  {
   "cell_type": "code",
   "execution_count": 31,
   "metadata": {},
   "outputs": [
    {
     "output_type": "execute_result",
     "data": {
      "text/plain": [
       "PCA(n_components=0.95)"
      ]
     },
     "metadata": {},
     "execution_count": 31
    }
   ],
   "source": [
    "pca.fit(X_train)"
   ]
  },
  {
   "cell_type": "code",
   "execution_count": 33,
   "metadata": {},
   "outputs": [
    {
     "output_type": "execute_result",
     "data": {
      "text/plain": [
       "(28,)"
      ]
     },
     "metadata": {},
     "execution_count": 33
    }
   ],
   "source": [
    "pca.explained_variance_ratio_.shape # not a good pca example"
   ]
  },
  {
   "cell_type": "code",
   "execution_count": null,
   "metadata": {},
   "outputs": [],
   "source": []
  }
 ]
}