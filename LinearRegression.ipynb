{
 "cells": [
  {
   "cell_type": "markdown",
   "metadata": {},
   "source": [
    "#### This file will give us the basics of how to approach a Simple Linear Regression problem\n",
    "#### Here we are using the advertising dateset (https://www.kaggle.com/ashydv/advertising-dataset)\n",
    "#### we will exlore the data , predict and plot (curve fitting) a Linear Regression problem using scikit lear and understand the \n",
    "#### various statistical aspects using statsmodels library\n"
   ]
  },
  {
   "cell_type": "code",
   "execution_count": 1,
   "metadata": {},
   "outputs": [],
   "source": [
    "# importing Libraries\n",
    "import pandas as pd\n",
    "import numpy as np\n",
    "from matplotlib import pyplot as plt\n",
    "%matplotlib inline\n",
    "import seaborn as sns"
   ]
  },
  {
   "cell_type": "code",
   "execution_count": 5,
   "metadata": {},
   "outputs": [
    {
     "data": {
      "text/html": [
       "<div>\n",
       "<style scoped>\n",
       "    .dataframe tbody tr th:only-of-type {\n",
       "        vertical-align: middle;\n",
       "    }\n",
       "\n",
       "    .dataframe tbody tr th {\n",
       "        vertical-align: top;\n",
       "    }\n",
       "\n",
       "    .dataframe thead th {\n",
       "        text-align: right;\n",
       "    }\n",
       "</style>\n",
       "<table border=\"1\" class=\"dataframe\">\n",
       "  <thead>\n",
       "    <tr style=\"text-align: right;\">\n",
       "      <th></th>\n",
       "      <th>Unnamed: 0</th>\n",
       "      <th>TV</th>\n",
       "      <th>Radio</th>\n",
       "      <th>Newspaper</th>\n",
       "      <th>Sales</th>\n",
       "    </tr>\n",
       "  </thead>\n",
       "  <tbody>\n",
       "    <tr>\n",
       "      <th>count</th>\n",
       "      <td>200.000000</td>\n",
       "      <td>200.000000</td>\n",
       "      <td>200.000000</td>\n",
       "      <td>200.000000</td>\n",
       "      <td>200.000000</td>\n",
       "    </tr>\n",
       "    <tr>\n",
       "      <th>mean</th>\n",
       "      <td>100.500000</td>\n",
       "      <td>147.042500</td>\n",
       "      <td>23.264000</td>\n",
       "      <td>30.554000</td>\n",
       "      <td>14.022500</td>\n",
       "    </tr>\n",
       "    <tr>\n",
       "      <th>std</th>\n",
       "      <td>57.879185</td>\n",
       "      <td>85.854236</td>\n",
       "      <td>14.846809</td>\n",
       "      <td>21.778621</td>\n",
       "      <td>5.217457</td>\n",
       "    </tr>\n",
       "    <tr>\n",
       "      <th>min</th>\n",
       "      <td>1.000000</td>\n",
       "      <td>0.700000</td>\n",
       "      <td>0.000000</td>\n",
       "      <td>0.300000</td>\n",
       "      <td>1.600000</td>\n",
       "    </tr>\n",
       "    <tr>\n",
       "      <th>25%</th>\n",
       "      <td>50.750000</td>\n",
       "      <td>74.375000</td>\n",
       "      <td>9.975000</td>\n",
       "      <td>12.750000</td>\n",
       "      <td>10.375000</td>\n",
       "    </tr>\n",
       "    <tr>\n",
       "      <th>50%</th>\n",
       "      <td>100.500000</td>\n",
       "      <td>149.750000</td>\n",
       "      <td>22.900000</td>\n",
       "      <td>25.750000</td>\n",
       "      <td>12.900000</td>\n",
       "    </tr>\n",
       "    <tr>\n",
       "      <th>75%</th>\n",
       "      <td>150.250000</td>\n",
       "      <td>218.825000</td>\n",
       "      <td>36.525000</td>\n",
       "      <td>45.100000</td>\n",
       "      <td>17.400000</td>\n",
       "    </tr>\n",
       "    <tr>\n",
       "      <th>max</th>\n",
       "      <td>200.000000</td>\n",
       "      <td>296.400000</td>\n",
       "      <td>49.600000</td>\n",
       "      <td>114.000000</td>\n",
       "      <td>27.000000</td>\n",
       "    </tr>\n",
       "  </tbody>\n",
       "</table>\n",
       "</div>"
      ],
      "text/plain": [
       "       Unnamed: 0          TV       Radio   Newspaper       Sales\n",
       "count  200.000000  200.000000  200.000000  200.000000  200.000000\n",
       "mean   100.500000  147.042500   23.264000   30.554000   14.022500\n",
       "std     57.879185   85.854236   14.846809   21.778621    5.217457\n",
       "min      1.000000    0.700000    0.000000    0.300000    1.600000\n",
       "25%     50.750000   74.375000    9.975000   12.750000   10.375000\n",
       "50%    100.500000  149.750000   22.900000   25.750000   12.900000\n",
       "75%    150.250000  218.825000   36.525000   45.100000   17.400000\n",
       "max    200.000000  296.400000   49.600000  114.000000   27.000000"
      ]
     },
     "execution_count": 5,
     "metadata": {},
     "output_type": "execute_result"
    }
   ],
   "source": [
    "# importing data into pandas dataframe\n",
    "df = pd.read_csv('https://raw.githubusercontent.com/justmarkham/scikit-learn-videos/master/data/Advertising.csv')\n",
    "df.describe()"
   ]
  },
  {
   "cell_type": "code",
   "execution_count": 7,
   "metadata": {},
   "outputs": [
    {
     "data": {
      "text/plain": [
       "(200, 5)"
      ]
     },
     "execution_count": 7,
     "metadata": {},
     "output_type": "execute_result"
    }
   ],
   "source": [
    "# checking the dimensionality of the data\n",
    "df.shape"
   ]
  },
  {
   "cell_type": "code",
   "execution_count": 8,
   "metadata": {},
   "outputs": [
    {
     "data": {
      "text/plain": [
       "Unnamed: 0    False\n",
       "TV            False\n",
       "Radio         False\n",
       "Newspaper     False\n",
       "Sales         False\n",
       "dtype: bool"
      ]
     },
     "execution_count": 8,
     "metadata": {},
     "output_type": "execute_result"
    }
   ],
   "source": [
    "# checking null values in the data\n",
    "df.isnull().any()"
   ]
  },
  {
   "cell_type": "code",
   "execution_count": 9,
   "metadata": {},
   "outputs": [
    {
     "data": {
      "text/html": [
       "<div>\n",
       "<style scoped>\n",
       "    .dataframe tbody tr th:only-of-type {\n",
       "        vertical-align: middle;\n",
       "    }\n",
       "\n",
       "    .dataframe tbody tr th {\n",
       "        vertical-align: top;\n",
       "    }\n",
       "\n",
       "    .dataframe thead th {\n",
       "        text-align: right;\n",
       "    }\n",
       "</style>\n",
       "<table border=\"1\" class=\"dataframe\">\n",
       "  <thead>\n",
       "    <tr style=\"text-align: right;\">\n",
       "      <th></th>\n",
       "      <th>Unnamed: 0</th>\n",
       "      <th>TV</th>\n",
       "      <th>Radio</th>\n",
       "      <th>Newspaper</th>\n",
       "      <th>Sales</th>\n",
       "    </tr>\n",
       "  </thead>\n",
       "  <tbody>\n",
       "    <tr>\n",
       "      <th>Unnamed: 0</th>\n",
       "      <td>1.000000</td>\n",
       "      <td>0.017715</td>\n",
       "      <td>-0.110680</td>\n",
       "      <td>-0.154944</td>\n",
       "      <td>-0.051616</td>\n",
       "    </tr>\n",
       "    <tr>\n",
       "      <th>TV</th>\n",
       "      <td>0.017715</td>\n",
       "      <td>1.000000</td>\n",
       "      <td>0.054809</td>\n",
       "      <td>0.056648</td>\n",
       "      <td>0.782224</td>\n",
       "    </tr>\n",
       "    <tr>\n",
       "      <th>Radio</th>\n",
       "      <td>-0.110680</td>\n",
       "      <td>0.054809</td>\n",
       "      <td>1.000000</td>\n",
       "      <td>0.354104</td>\n",
       "      <td>0.576223</td>\n",
       "    </tr>\n",
       "    <tr>\n",
       "      <th>Newspaper</th>\n",
       "      <td>-0.154944</td>\n",
       "      <td>0.056648</td>\n",
       "      <td>0.354104</td>\n",
       "      <td>1.000000</td>\n",
       "      <td>0.228299</td>\n",
       "    </tr>\n",
       "    <tr>\n",
       "      <th>Sales</th>\n",
       "      <td>-0.051616</td>\n",
       "      <td>0.782224</td>\n",
       "      <td>0.576223</td>\n",
       "      <td>0.228299</td>\n",
       "      <td>1.000000</td>\n",
       "    </tr>\n",
       "  </tbody>\n",
       "</table>\n",
       "</div>"
      ],
      "text/plain": [
       "            Unnamed: 0        TV     Radio  Newspaper     Sales\n",
       "Unnamed: 0    1.000000  0.017715 -0.110680  -0.154944 -0.051616\n",
       "TV            0.017715  1.000000  0.054809   0.056648  0.782224\n",
       "Radio        -0.110680  0.054809  1.000000   0.354104  0.576223\n",
       "Newspaper    -0.154944  0.056648  0.354104   1.000000  0.228299\n",
       "Sales        -0.051616  0.782224  0.576223   0.228299  1.000000"
      ]
     },
     "execution_count": 9,
     "metadata": {},
     "output_type": "execute_result"
    }
   ],
   "source": [
    "# finding out the correlation between data columns\n",
    "df.corr()"
   ]
  },
  {
   "cell_type": "code",
   "execution_count": 8,
   "metadata": {},
   "outputs": [
    {
     "data": {
      "text/plain": [
       "<AxesSubplot:xlabel='Newspaper', ylabel='Sales'>"
      ]
     },
     "execution_count": 8,
     "metadata": {},
     "output_type": "execute_result"
    },
    {
     "data": {
      "image/png": "[encoded data removed]",
      "text/plain": [
       "<Figure size 720x432 with 3 Axes>"
      ]
     },
     "metadata": {
      "needs_background": "light"
     },
     "output_type": "display_data"
    }
   ],
   "source": [
    "# exploring the data by plotting it \n",
    "fig, axs = plt.subplots(1,3)\n",
    "df.plot(kind='scatter', x='TV', y='Sales', ax=axs[0],figsize=(10,6))\n",
    "df.plot(kind='scatter', x='Radio', y='Sales', ax=axs[1])\n",
    "df.plot(kind='scatter', x='Newspaper', y='Sales', ax=axs[2])"
   ]
  },
  {
   "cell_type": "code",
   "execution_count": 11,
   "metadata": {},
   "outputs": [],
   "source": [
    "# declaring variables to use in model building\n",
    "features = df['TV'].values\n",
    "target = df['Sales'].values"
   ]
  },
  {
   "cell_type": "code",
   "execution_count": 12,
   "metadata": {},
   "outputs": [
    {
     "data": {
      "text/plain": [
       "array([22.1, 10.4,  9.3, 18.5, 12.9,  7.2, 11.8, 13.2,  4.8, 10.6,  8.6,\n",
       "       17.4,  9.2,  9.7, 19. , 22.4, 12.5, 24.4, 11.3, 14.6, 18. , 12.5,\n",
       "        5.6, 15.5,  9.7, 12. , 15. , 15.9, 18.9, 10.5, 21.4, 11.9,  9.6,\n",
       "       17.4,  9.5, 12.8, 25.4, 14.7, 10.1, 21.5, 16.6, 17.1, 20.7, 12.9,\n",
       "        8.5, 14.9, 10.6, 23.2, 14.8,  9.7, 11.4, 10.7, 22.6, 21.2, 20.2,\n",
       "       23.7,  5.5, 13.2, 23.8, 18.4,  8.1, 24.2, 15.7, 14. , 18. ,  9.3,\n",
       "        9.5, 13.4, 18.9, 22.3, 18.3, 12.4,  8.8, 11. , 17. ,  8.7,  6.9,\n",
       "       14.2,  5.3, 11. , 11.8, 12.3, 11.3, 13.6, 21.7, 15.2, 12. , 16. ,\n",
       "       12.9, 16.7, 11.2,  7.3, 19.4, 22.2, 11.5, 16.9, 11.7, 15.5, 25.4,\n",
       "       17.2, 11.7, 23.8, 14.8, 14.7, 20.7, 19.2,  7.2,  8.7,  5.3, 19.8,\n",
       "       13.4, 21.8, 14.1, 15.9, 14.6, 12.6, 12.2,  9.4, 15.9,  6.6, 15.5,\n",
       "        7. , 11.6, 15.2, 19.7, 10.6,  6.6,  8.8, 24.7,  9.7,  1.6, 12.7,\n",
       "        5.7, 19.6, 10.8, 11.6,  9.5, 20.8,  9.6, 20.7, 10.9, 19.2, 20.1,\n",
       "       10.4, 11.4, 10.3, 13.2, 25.4, 10.9, 10.1, 16.1, 11.6, 16.6, 19. ,\n",
       "       15.6,  3.2, 15.3, 10.1,  7.3, 12.9, 14.4, 13.3, 14.9, 18. , 11.9,\n",
       "       11.9,  8. , 12.2, 17.1, 15. ,  8.4, 14.5,  7.6, 11.7, 11.5, 27. ,\n",
       "       20.2, 11.7, 11.8, 12.6, 10.5, 12.2,  8.7, 26.2, 17.6, 22.6, 10.3,\n",
       "       17.3, 15.9,  6.7, 10.8,  9.9,  5.9, 19.6, 17.3,  7.6,  9.7, 12.8,\n",
       "       25.5, 13.4])"
      ]
     },
     "execution_count": 12,
     "metadata": {},
     "output_type": "execute_result"
    }
   ],
   "source": [
    "target"
   ]
  },
  {
   "cell_type": "code",
   "execution_count": 13,
   "metadata": {},
   "outputs": [
    {
     "data": {
      "text/plain": [
       "array([230.1,  44.5,  17.2, 151.5, 180.8,   8.7,  57.5, 120.2,   8.6,\n",
       "       199.8,  66.1, 214.7,  23.8,  97.5, 204.1, 195.4,  67.8, 281.4,\n",
       "        69.2, 147.3, 218.4, 237.4,  13.2, 228.3,  62.3, 262.9, 142.9,\n",
       "       240.1, 248.8,  70.6, 292.9, 112.9,  97.2, 265.6,  95.7, 290.7,\n",
       "       266.9,  74.7,  43.1, 228. , 202.5, 177. , 293.6, 206.9,  25.1,\n",
       "       175.1,  89.7, 239.9, 227.2,  66.9, 199.8, 100.4, 216.4, 182.6,\n",
       "       262.7, 198.9,   7.3, 136.2, 210.8, 210.7,  53.5, 261.3, 239.3,\n",
       "       102.7, 131.1,  69. ,  31.5, 139.3, 237.4, 216.8, 199.1, 109.8,\n",
       "        26.8, 129.4, 213.4,  16.9,  27.5, 120.5,   5.4, 116. ,  76.4,\n",
       "       239.8,  75.3,  68.4, 213.5, 193.2,  76.3, 110.7,  88.3, 109.8,\n",
       "       134.3,  28.6, 217.7, 250.9, 107.4, 163.3, 197.6, 184.9, 289.7,\n",
       "       135.2, 222.4, 296.4, 280.2, 187.9, 238.2, 137.9,  25. ,  90.4,\n",
       "        13.1, 255.4, 225.8, 241.7, 175.7, 209.6,  78.2,  75.1, 139.2,\n",
       "        76.4, 125.7,  19.4, 141.3,  18.8, 224. , 123.1, 229.5,  87.2,\n",
       "         7.8,  80.2, 220.3,  59.6,   0.7, 265.2,   8.4, 219.8,  36.9,\n",
       "        48.3,  25.6, 273.7,  43. , 184.9,  73.4, 193.7, 220.5, 104.6,\n",
       "        96.2, 140.3, 240.1, 243.2,  38. ,  44.7, 280.7, 121. , 197.6,\n",
       "       171.3, 187.8,   4.1,  93.9, 149.8,  11.7, 131.7, 172.5,  85.7,\n",
       "       188.4, 163.5, 117.2, 234.5,  17.9, 206.8, 215.4, 284.3,  50. ,\n",
       "       164.5,  19.6, 168.4, 222.4, 276.9, 248.4, 170.2, 276.7, 165.6,\n",
       "       156.6, 218.5,  56.2, 287.6, 253.8, 205. , 139.5, 191.1, 286. ,\n",
       "        18.7,  39.5,  75.5,  17.2, 166.8, 149.7,  38.2,  94.2, 177. ,\n",
       "       283.6, 232.1])"
      ]
     },
     "execution_count": 13,
     "metadata": {},
     "output_type": "execute_result"
    }
   ],
   "source": [
    "features"
   ]
  },
  {
   "cell_type": "code",
   "execution_count": 9,
   "metadata": {},
   "outputs": [],
   "source": [
    "# importing scikit learn library split dataset method to apply to the dataset\n",
    "from sklearn.model_selection import train_test_split"
   ]
  },
  {
   "cell_type": "code",
   "execution_count": 13,
   "metadata": {},
   "outputs": [],
   "source": [
    "# this step is done to split the data into training and testing\n",
    "X_train, X_test, y_train,y_test = train_test_split(features,target,random_state=10)"
   ]
  },
  {
   "cell_type": "code",
   "execution_count": 14,
   "metadata": {},
   "outputs": [
    {
     "name": "stdout",
     "output_type": "stream",
     "text": [
      "(150,)\n",
      "(50,)\n",
      "(150,)\n",
      "(50,)\n"
     ]
    }
   ],
   "source": [
    "# printing the data to check the shape of the split dataset (train test)\n",
    "print(X_train.shape)\n",
    "print(X_test.shape)\n",
    "print(y_train.shape)\n",
    "print(y_test.shape)"
   ]
  },
  {
   "cell_type": "code",
   "execution_count": 15,
   "metadata": {},
   "outputs": [
    {
     "data": {
      "text/plain": [
       "(150, 1)"
      ]
     },
     "execution_count": 15,
     "metadata": {},
     "output_type": "execute_result"
    }
   ],
   "source": [
    "# reshaping the data\n",
    "X_test = X_test.reshape(50,-1)\n",
    "X_test.shape\n",
    "\n",
    "X_train = X_train.reshape(150,-1)\n",
    "X_train.shape\n"
   ]
  },
  {
   "cell_type": "code",
   "execution_count": 16,
   "metadata": {},
   "outputs": [],
   "source": [
    "# importing scikit learn library to get the Linear Regression model to apply to the dataset\n",
    "from sklearn.linear_model import LinearRegression"
   ]
  },
  {
   "cell_type": "code",
   "execution_count": 19,
   "metadata": {},
   "outputs": [],
   "source": [
    "# declaring variable for Linear Regression\n",
    "my_model = LinearRegression()"
   ]
  },
  {
   "cell_type": "code",
   "execution_count": 20,
   "metadata": {},
   "outputs": [
    {
     "data": {
      "text/plain": [
       "LinearRegression()"
      ]
     },
     "execution_count": 20,
     "metadata": {},
     "output_type": "execute_result"
    }
   ],
   "source": [
    "# fitting the data to the model\n",
    "my_model.fit(X_train,y_train)"
   ]
  },
  {
   "cell_type": "code",
   "execution_count": 21,
   "metadata": {},
   "outputs": [
    {
     "data": {
      "text/plain": [
       "array([0.04590078])"
      ]
     },
     "execution_count": 21,
     "metadata": {},
     "output_type": "execute_result"
    }
   ],
   "source": [
    "# coefficient of linear regression\n",
    "my_model.coef_"
   ]
  },
  {
   "cell_type": "code",
   "execution_count": 22,
   "metadata": {},
   "outputs": [
    {
     "data": {
      "text/plain": [
       "7.152948424392983"
      ]
     },
     "execution_count": 22,
     "metadata": {},
     "output_type": "execute_result"
    }
   ],
   "source": [
    "# intercept of linear regression\n",
    "my_model.intercept_"
   ]
  },
  {
   "cell_type": "code",
   "execution_count": 24,
   "metadata": {},
   "outputs": [
    {
     "data": {
      "text/html": [
       "<div>\n",
       "<style scoped>\n",
       "    .dataframe tbody tr th:only-of-type {\n",
       "        vertical-align: middle;\n",
       "    }\n",
       "\n",
       "    .dataframe tbody tr th {\n",
       "        vertical-align: top;\n",
       "    }\n",
       "\n",
       "    .dataframe thead th {\n",
       "        text-align: right;\n",
       "    }\n",
       "</style>\n",
       "<table border=\"1\" class=\"dataframe\">\n",
       "  <thead>\n",
       "    <tr style=\"text-align: right;\">\n",
       "      <th></th>\n",
       "      <th>TV</th>\n",
       "    </tr>\n",
       "  </thead>\n",
       "  <tbody>\n",
       "    <tr>\n",
       "      <th>0</th>\n",
       "      <td>0.7</td>\n",
       "    </tr>\n",
       "    <tr>\n",
       "      <th>1</th>\n",
       "      <td>296.4</td>\n",
       "    </tr>\n",
       "  </tbody>\n",
       "</table>\n",
       "</div>"
      ],
      "text/plain": [
       "      TV\n",
       "0    0.7\n",
       "1  296.4"
      ]
     },
     "execution_count": 24,
     "metadata": {},
     "output_type": "execute_result"
    }
   ],
   "source": [
    "X_new = pd.DataFrame({'TV':[df.TV.min(),df.TV.max()]})\n",
    "X_new.head()"
   ]
  },
  {
   "cell_type": "code",
   "execution_count": 25,
   "metadata": {},
   "outputs": [],
   "source": [
    "# predict using the model\n",
    "preds = my_model.predict(X_new)"
   ]
  },
  {
   "cell_type": "code",
   "execution_count": 26,
   "metadata": {},
   "outputs": [
    {
     "data": {
      "image/png": "[encoded data removed]",
      "text/plain": [
       "<Figure size 432x288 with 1 Axes>"
      ]
     },
     "metadata": {
      "needs_background": "light"
     },
     "output_type": "display_data"
    }
   ],
   "source": [
    "# fitting a curve\n",
    "df.plot(kind ='scatter', x='TV', y='Sales')\n",
    "plt.plot(X_new,preds,c='red');"
   ]
  },
  {
   "cell_type": "code",
   "execution_count": 27,
   "metadata": {},
   "outputs": [
    {
     "data": {
      "text/plain": [
       "Intercept    1.406300e-35\n",
       "TV           1.467390e-42\n",
       "dtype: float64"
      ]
     },
     "execution_count": 27,
     "metadata": {},
     "output_type": "execute_result"
    }
   ],
   "source": [
    "# importing statsmodel library\n",
    "import statsmodels.formula.api as smf\n",
    "my_stats_model = smf.ols(formula='Sales ~ TV',data= df).fit()\n",
    "# p value of TV is less than 0.5 then I will reject the null hypothesis\n",
    "my_stats_model.pvalues\n"
   ]
  },
  {
   "cell_type": "code",
   "execution_count": 28,
   "metadata": {},
   "outputs": [
    {
     "data": {
      "text/plain": [
       "0.611875050850071"
      ]
     },
     "execution_count": 28,
     "metadata": {},
     "output_type": "execute_result"
    }
   ],
   "source": [
    "# my model will be able to capture the variance 61% of the times\n",
    "my_stats_model.rsquared\n"
   ]
  },
  {
   "cell_type": "code",
   "execution_count": 29,
   "metadata": {},
   "outputs": [],
   "source": [
    "# predictio using the model\n",
    "mymodelpredict = my_model.predict(X_test)"
   ]
  },
  {
   "cell_type": "code",
   "execution_count": 30,
   "metadata": {},
   "outputs": [],
   "source": [
    "from sklearn.metrics import mean_squared_error,mean_absolute_error"
   ]
  },
  {
   "cell_type": "code",
   "execution_count": 31,
   "metadata": {},
   "outputs": [
    {
     "data": {
      "text/plain": [
       "2.828490097007515"
      ]
     },
     "execution_count": 31,
     "metadata": {},
     "output_type": "execute_result"
    }
   ],
   "source": [
    "#MAE\n",
    "mean_absolute_error(mymodelpredict,y_test)"
   ]
  },
  {
   "cell_type": "code",
   "execution_count": 32,
   "metadata": {},
   "outputs": [
    {
     "data": {
      "text/plain": [
       "13.257223047447749"
      ]
     },
     "execution_count": 32,
     "metadata": {},
     "output_type": "execute_result"
    }
   ],
   "source": [
    "#MSE\n",
    "mean_squared_error(mymodelpredict,y_test)"
   ]
  },
  {
   "cell_type": "code",
   "execution_count": 34,
   "metadata": {},
   "outputs": [
    {
     "data": {
      "text/plain": [
       "3.6410469713322495"
      ]
     },
     "execution_count": 34,
     "metadata": {},
     "output_type": "execute_result"
    }
   ],
   "source": [
    "#RMSE\n",
    "np.sqrt(mean_squared_error(mymodelpredict,y_test))"
   ]
  },
  {
   "cell_type": "code",
   "execution_count": 35,
   "metadata": {},
   "outputs": [],
   "source": [
    "#Regression - using scikit learn boston house price dataset\n",
    "from sklearn.datasets import load_boston\n",
    "data = load_boston()"
   ]
  },
  {
   "cell_type": "code",
   "execution_count": 36,
   "metadata": {},
   "outputs": [
    {
     "data": {
      "text/plain": [
       "['.. _boston_dataset:',\n",
       " '',\n",
       " 'Boston house prices dataset',\n",
       " '---------------------------',\n",
       " '',\n",
       " '**Data Set Characteristics:**  ',\n",
       " '',\n",
       " '    :Number of Instances: 506 ',\n",
       " '',\n",
       " '    :Number of Attributes: 13 numeric/categorical predictive. Median Value (attribute 14) is usually the target.',\n",
       " '',\n",
       " '    :Attribute Information (in order):',\n",
       " '        - CRIM     per capita crime rate by town',\n",
       " '        - ZN       proportion of residential land zoned for lots over 25,000 sq.ft.',\n",
       " '        - INDUS    proportion of non-retail business acres per town',\n",
       " '        - CHAS     Charles River dummy variable (= 1 if tract bounds river; 0 otherwise)',\n",
       " '        - NOX      nitric oxides concentration (parts per 10 million)',\n",
       " '        - RM       average number of rooms per dwelling',\n",
       " '        - AGE      proportion of owner-occupied units built prior to 1940',\n",
       " '        - DIS      weighted distances to five Boston employment centres',\n",
       " '        - RAD      index of accessibility to radial highways',\n",
       " '        - TAX      full-value property-tax rate per $10,000',\n",
       " '        - PTRATIO  pupil-teacher ratio by town',\n",
       " '        - B        1000(Bk - 0.63)^2 where Bk is the proportion of black people by town',\n",
       " '        - LSTAT    % lower status of the population',\n",
       " \"        - MEDV     Median value of owner-occupied homes in $1000's\",\n",
       " '',\n",
       " '    :Missing Attribute Values: None',\n",
       " '',\n",
       " '    :Creator: Harrison, D. and Rubinfeld, D.L.',\n",
       " '',\n",
       " 'This is a copy of UCI ML housing dataset.',\n",
       " 'https://archive.ics.uci.edu/ml/machine-learning-databases/housing/',\n",
       " '',\n",
       " '',\n",
       " 'This dataset was taken from the StatLib library which is maintained at Carnegie Mellon University.',\n",
       " '',\n",
       " \"The Boston house-price data of Harrison, D. and Rubinfeld, D.L. 'Hedonic\",\n",
       " \"prices and the demand for clean air', J. Environ. Economics & Management,\",\n",
       " \"vol.5, 81-102, 1978.   Used in Belsley, Kuh & Welsch, 'Regression diagnostics\",\n",
       " \"...', Wiley, 1980.   N.B. Various transformations are used in the table on\",\n",
       " 'pages 244-261 of the latter.',\n",
       " '',\n",
       " 'The Boston house-price data has been used in many machine learning papers that address regression',\n",
       " 'problems.   ',\n",
       " '     ',\n",
       " '.. topic:: References',\n",
       " '',\n",
       " \"   - Belsley, Kuh & Welsch, 'Regression diagnostics: Identifying Influential Data and Sources of Collinearity', Wiley, 1980. 244-261.\",\n",
       " '   - Quinlan,R. (1993). Combining Instance-Based and Model-Based Learning. In Proceedings on the Tenth International Conference of Machine Learning, 236-243, University of Massachusetts, Amherst. Morgan Kaufmann.',\n",
       " '']"
      ]
     },
     "execution_count": 36,
     "metadata": {},
     "output_type": "execute_result"
    }
   ],
   "source": [
    "# describing the data , for better view splitting it with new line character\n",
    "data.DESCR.split('\\n')"
   ]
  },
  {
   "cell_type": "code",
   "execution_count": 37,
   "metadata": {},
   "outputs": [
    {
     "data": {
      "text/html": [
       "<div>\n",
       "<style scoped>\n",
       "    .dataframe tbody tr th:only-of-type {\n",
       "        vertical-align: middle;\n",
       "    }\n",
       "\n",
       "    .dataframe tbody tr th {\n",
       "        vertical-align: top;\n",
       "    }\n",
       "\n",
       "    .dataframe thead th {\n",
       "        text-align: right;\n",
       "    }\n",
       "</style>\n",
       "<table border=\"1\" class=\"dataframe\">\n",
       "  <thead>\n",
       "    <tr style=\"text-align: right;\">\n",
       "      <th></th>\n",
       "      <th>CRIM</th>\n",
       "      <th>ZN</th>\n",
       "      <th>INDUS</th>\n",
       "      <th>CHAS</th>\n",
       "      <th>NOX</th>\n",
       "      <th>RM</th>\n",
       "      <th>AGE</th>\n",
       "      <th>DIS</th>\n",
       "      <th>RAD</th>\n",
       "      <th>TAX</th>\n",
       "      <th>PTRATIO</th>\n",
       "      <th>B</th>\n",
       "      <th>LSTAT</th>\n",
       "    </tr>\n",
       "  </thead>\n",
       "  <tbody>\n",
       "    <tr>\n",
       "      <th>count</th>\n",
       "      <td>506.000000</td>\n",
       "      <td>506.000000</td>\n",
       "      <td>506.000000</td>\n",
       "      <td>506.000000</td>\n",
       "      <td>506.000000</td>\n",
       "      <td>506.000000</td>\n",
       "      <td>506.000000</td>\n",
       "      <td>506.000000</td>\n",
       "      <td>506.000000</td>\n",
       "      <td>506.000000</td>\n",
       "      <td>506.000000</td>\n",
       "      <td>506.000000</td>\n",
       "      <td>506.000000</td>\n",
       "    </tr>\n",
       "    <tr>\n",
       "      <th>mean</th>\n",
       "      <td>3.613524</td>\n",
       "      <td>11.363636</td>\n",
       "      <td>11.136779</td>\n",
       "      <td>0.069170</td>\n",
       "      <td>0.554695</td>\n",
       "      <td>6.284634</td>\n",
       "      <td>68.574901</td>\n",
       "      <td>3.795043</td>\n",
       "      <td>9.549407</td>\n",
       "      <td>408.237154</td>\n",
       "      <td>18.455534</td>\n",
       "      <td>356.674032</td>\n",
       "      <td>12.653063</td>\n",
       "    </tr>\n",
       "    <tr>\n",
       "      <th>std</th>\n",
       "      <td>8.601545</td>\n",
       "      <td>23.322453</td>\n",
       "      <td>6.860353</td>\n",
       "      <td>0.253994</td>\n",
       "      <td>0.115878</td>\n",
       "      <td>0.702617</td>\n",
       "      <td>28.148861</td>\n",
       "      <td>2.105710</td>\n",
       "      <td>8.707259</td>\n",
       "      <td>168.537116</td>\n",
       "      <td>2.164946</td>\n",
       "      <td>91.294864</td>\n",
       "      <td>7.141062</td>\n",
       "    </tr>\n",
       "    <tr>\n",
       "      <th>min</th>\n",
       "      <td>0.006320</td>\n",
       "      <td>0.000000</td>\n",
       "      <td>0.460000</td>\n",
       "      <td>0.000000</td>\n",
       "      <td>0.385000</td>\n",
       "      <td>3.561000</td>\n",
       "      <td>2.900000</td>\n",
       "      <td>1.129600</td>\n",
       "      <td>1.000000</td>\n",
       "      <td>187.000000</td>\n",
       "      <td>12.600000</td>\n",
       "      <td>0.320000</td>\n",
       "      <td>1.730000</td>\n",
       "    </tr>\n",
       "    <tr>\n",
       "      <th>25%</th>\n",
       "      <td>0.082045</td>\n",
       "      <td>0.000000</td>\n",
       "      <td>5.190000</td>\n",
       "      <td>0.000000</td>\n",
       "      <td>0.449000</td>\n",
       "      <td>5.885500</td>\n",
       "      <td>45.025000</td>\n",
       "      <td>2.100175</td>\n",
       "      <td>4.000000</td>\n",
       "      <td>279.000000</td>\n",
       "      <td>17.400000</td>\n",
       "      <td>375.377500</td>\n",
       "      <td>6.950000</td>\n",
       "    </tr>\n",
       "    <tr>\n",
       "      <th>50%</th>\n",
       "      <td>0.256510</td>\n",
       "      <td>0.000000</td>\n",
       "      <td>9.690000</td>\n",
       "      <td>0.000000</td>\n",
       "      <td>0.538000</td>\n",
       "      <td>6.208500</td>\n",
       "      <td>77.500000</td>\n",
       "      <td>3.207450</td>\n",
       "      <td>5.000000</td>\n",
       "      <td>330.000000</td>\n",
       "      <td>19.050000</td>\n",
       "      <td>391.440000</td>\n",
       "      <td>11.360000</td>\n",
       "    </tr>\n",
       "    <tr>\n",
       "      <th>75%</th>\n",
       "      <td>3.677083</td>\n",
       "      <td>12.500000</td>\n",
       "      <td>18.100000</td>\n",
       "      <td>0.000000</td>\n",
       "      <td>0.624000</td>\n",
       "      <td>6.623500</td>\n",
       "      <td>94.075000</td>\n",
       "      <td>5.188425</td>\n",
       "      <td>24.000000</td>\n",
       "      <td>666.000000</td>\n",
       "      <td>20.200000</td>\n",
       "      <td>396.225000</td>\n",
       "      <td>16.955000</td>\n",
       "    </tr>\n",
       "    <tr>\n",
       "      <th>max</th>\n",
       "      <td>88.976200</td>\n",
       "      <td>100.000000</td>\n",
       "      <td>27.740000</td>\n",
       "      <td>1.000000</td>\n",
       "      <td>0.871000</td>\n",
       "      <td>8.780000</td>\n",
       "      <td>100.000000</td>\n",
       "      <td>12.126500</td>\n",
       "      <td>24.000000</td>\n",
       "      <td>711.000000</td>\n",
       "      <td>22.000000</td>\n",
       "      <td>396.900000</td>\n",
       "      <td>37.970000</td>\n",
       "    </tr>\n",
       "  </tbody>\n",
       "</table>\n",
       "</div>"
      ],
      "text/plain": [
       "             CRIM          ZN       INDUS        CHAS         NOX          RM  \\\n",
       "count  506.000000  506.000000  506.000000  506.000000  506.000000  506.000000   \n",
       "mean     3.613524   11.363636   11.136779    0.069170    0.554695    6.284634   \n",
       "std      8.601545   23.322453    6.860353    0.253994    0.115878    0.702617   \n",
       "min      0.006320    0.000000    0.460000    0.000000    0.385000    3.561000   \n",
       "25%      0.082045    0.000000    5.190000    0.000000    0.449000    5.885500   \n",
       "50%      0.256510    0.000000    9.690000    0.000000    0.538000    6.208500   \n",
       "75%      3.677083   12.500000   18.100000    0.000000    0.624000    6.623500   \n",
       "max     88.976200  100.000000   27.740000    1.000000    0.871000    8.780000   \n",
       "\n",
       "              AGE         DIS         RAD         TAX     PTRATIO           B  \\\n",
       "count  506.000000  506.000000  506.000000  506.000000  506.000000  506.000000   \n",
       "mean    68.574901    3.795043    9.549407  408.237154   18.455534  356.674032   \n",
       "std     28.148861    2.105710    8.707259  168.537116    2.164946   91.294864   \n",
       "min      2.900000    1.129600    1.000000  187.000000   12.600000    0.320000   \n",
       "25%     45.025000    2.100175    4.000000  279.000000   17.400000  375.377500   \n",
       "50%     77.500000    3.207450    5.000000  330.000000   19.050000  391.440000   \n",
       "75%     94.075000    5.188425   24.000000  666.000000   20.200000  396.225000   \n",
       "max    100.000000   12.126500   24.000000  711.000000   22.000000  396.900000   \n",
       "\n",
       "            LSTAT  \n",
       "count  506.000000  \n",
       "mean    12.653063  \n",
       "std      7.141062  \n",
       "min      1.730000  \n",
       "25%      6.950000  \n",
       "50%     11.360000  \n",
       "75%     16.955000  \n",
       "max     37.970000  "
      ]
     },
     "execution_count": 37,
     "metadata": {},
     "output_type": "execute_result"
    }
   ],
   "source": [
    "# loading the data to a pandas dataframe\n",
    "df = pd.DataFrame(data=data.data,columns=data.feature_names)\n",
    "df.describe()"
   ]
  },
  {
   "cell_type": "code",
   "execution_count": 83,
   "metadata": {},
   "outputs": [
    {
     "name": "stdout",
     "output_type": "stream",
     "text": [
      "dict_keys(['data', 'target', 'feature_names', 'DESCR', 'filename'])\n"
     ]
    }
   ],
   "source": [
    "# printing the data keys\n",
    "print(data.keys())"
   ]
  },
  {
   "cell_type": "code",
   "execution_count": 85,
   "metadata": {},
   "outputs": [
    {
     "data": {
      "text/plain": [
       "<AxesSubplot:>"
      ]
     },
     "execution_count": 85,
     "metadata": {},
     "output_type": "execute_result"
    },
    {
     "data": {
      "image/png": "[encoded data removed]",
      "image/svg+xml": "<?xml version=\"1.0\" encoding=\"utf-8\" standalone=\"no\"?>\r\n<!DOCTYPE svg PUBLIC \"-//W3C//DTD SVG 1.1//EN\"\r\n  \"http://www.w3.org/Graphics/SVG/1.1/DTD/svg11.dtd\">\r\n<!-- Created with matplotlib (https://matplotlib.org/) -->\r\n<svg height=\"284.320469pt\" version=\"1.1\" viewBox=\"0 0 389.816062 284.320469\" width=\"389.816062pt\" xmlns=\"http://www.w3.org/2000/svg\" xmlns:xlink=\"http://www.w3.org/1999/xlink\">\r\n <metadata>\r\n  <rdf:RDF xmlns:cc=\"http://creativecommons.org/ns#\" xmlns:dc=\"http://purl.org/dc/elements/1.1/\" xmlns:rdf=\"http://www.w3.org/1999/02/22-rdf-syntax-ns#\">\r\n   <cc:Work>\r\n    <dc:type rdf:resource=\"http://purl.org/dc/dcmitype/StillImage\"/>\r\n    <dc:date>2021-02-24T22:05:11.131821</dc:date>\r\n    <dc:format>image/svg+xml</dc:format>\r\n    <dc:creator>\r\n     <cc:Agent>\r\n      <dc:title>Matplotlib v3.3.2, https://matplotlib.org/</dc:title>\r\n     </cc:Agent>\r\n    </dc:creator>\r\n   </cc:Work>\r\n  </rdf:RDF>\r\n </metadata>\r\n <defs>\r\n  <style type=\"text/css\">*{stroke-linecap:butt;stroke-linejoin:round;}</style>\r\n </defs>\r\n <g id=\"figure_1\">\r\n  <g id=\"patch_1\">\r\n   <path d=\"M 0 284.320469 \r\nL 389.816062 284.320469 \r\nL 389.816062 0 \r\nL 0 0 \r\nz\r\n\" style=\"fill:none;\"/>\r\n  </g>\r\n  <g id=\"axes_1\">\r\n   <g id=\"patch_2\">\r\n    <path d=\"M 55.88125 228.439219 \r\nL 323.72125 228.439219 \r\nL 323.72125 10.999219 \r\nL 55.88125 10.999219 \r\nz\r\n\" style=\"fill:#ffffff;\"/>\r\n   </g>\r\n   <g id=\"QuadMesh_1\">\r\n    <path clip-path=\"url(#p61576e154a)\" d=\"M 55.88125 10.999219 \r\nL 76.484327 10.999219 \r\nL 76.484327 27.725373 \r\nL 55.88125 27.725373 \r\nL 55.88125 10.999219 \r\n\" style=\"fill:#b40426;\"/>\r\n    <path clip-path=\"url(#p61576e154a)\" d=\"M 76.484327 10.999219 \r\nL 97.087404 10.999219 \r\nL 97.087404 27.725373 \r\nL 76.484327 27.725373 \r\nL 76.484327 10.999219 \r\n\" style=\"fill:#a6c4fe;\"/>\r\n    <path clip-path=\"url(#p61576e154a)\" d=\"M 97.087404 10.999219 \r\nL 117.690481 10.999219 \r\nL 117.690481 27.725373 \r\nL 97.087404 27.725373 \r\nL 97.087404 10.999219 \r\n\" style=\"fill:#f7b89c;\"/>\r\n    <path clip-path=\"url(#p61576e154a)\" d=\"M 117.690481 10.999219 \r\nL 138.293558 10.999219 \r\nL 138.293558 27.725373 \r\nL 117.690481 27.725373 \r\nL 117.690481 10.999219 \r\n\" style=\"fill:#c1d4f4;\"/>\r\n    <path clip-path=\"url(#p61576e154a)\" d=\"M 138.293558 10.999219 \r\nL 158.896635 10.999219 \r\nL 158.896635 27.725373 \r\nL 138.293558 27.725373 \r\nL 138.293558 10.999219 \r\n\" style=\"fill:#f7b599;\"/>\r\n    <path clip-path=\"url(#p61576e154a)\" d=\"M 158.896635 10.999219 \r\nL 179.499712 10.999219 \r\nL 179.499712 27.725373 \r\nL 158.896635 27.725373 \r\nL 158.896635 10.999219 \r\n\" style=\"fill:#a2c1ff;\"/>\r\n    <path clip-path=\"url(#p61576e154a)\" d=\"M 179.499712 10.999219 \r\nL 200.102788 10.999219 \r\nL 200.102788 27.725373 \r\nL 179.499712 27.725373 \r\nL 179.499712 10.999219 \r\n\" style=\"fill:#f5c1a9;\"/>\r\n    <path clip-path=\"url(#p61576e154a)\" d=\"M 200.102788 10.999219 \r\nL 220.705865 10.999219 \r\nL 220.705865 27.725373 \r\nL 200.102788 27.725373 \r\nL 200.102788 10.999219 \r\n\" style=\"fill:#82a6fb;\"/>\r\n    <path clip-path=\"url(#p61576e154a)\" d=\"M 220.705865 10.999219 \r\nL 241.308942 10.999219 \r\nL 241.308942 27.725373 \r\nL 220.705865 27.725373 \r\nL 220.705865 10.999219 \r\n\" style=\"fill:#f08a6c;\"/>\r\n    <path clip-path=\"url(#p61576e154a)\" d=\"M 241.308942 10.999219 \r\nL 261.912019 10.999219 \r\nL 261.912019 27.725373 \r\nL 241.308942 27.725373 \r\nL 241.308942 10.999219 \r\n\" style=\"fill:#f39475;\"/>\r\n    <path clip-path=\"url(#p61576e154a)\" d=\"M 261.912019 10.999219 \r\nL 282.515096 10.999219 \r\nL 282.515096 27.725373 \r\nL 261.912019 27.725373 \r\nL 261.912019 10.999219 \r\n\" style=\"fill:#f2cbb7;\"/>\r\n    <path clip-path=\"url(#p61576e154a)\" d=\"M 282.515096 10.999219 \r\nL 303.118173 10.999219 \r\nL 303.118173 27.725373 \r\nL 282.515096 27.725373 \r\nL 282.515096 10.999219 \r\n\" style=\"fill:#81a4fb;\"/>\r\n    <path clip-path=\"url(#p61576e154a)\" d=\"M 303.118173 10.999219 \r\nL 323.72125 10.999219 \r\nL 323.72125 27.725373 \r\nL 303.118173 27.725373 \r\nL 303.118173 10.999219 \r\n\" style=\"fill:#f7af91;\"/>\r\n    <path clip-path=\"url(#p61576e154a)\" d=\"M 55.88125 27.725373 \r\nL 76.484327 27.725373 \r\nL 76.484327 44.451526 \r\nL 55.88125 44.451526 \r\nL 55.88125 27.725373 \r\n\" style=\"fill:#a6c4fe;\"/>\r\n    <path clip-path=\"url(#p61576e154a)\" d=\"M 76.484327 27.725373 \r\nL 97.087404 27.725373 \r\nL 97.087404 44.451526 \r\nL 76.484327 44.451526 \r\nL 76.484327 27.725373 \r\n\" style=\"fill:#b40426;\"/>\r\n    <path clip-path=\"url(#p61576e154a)\" d=\"M 97.087404 27.725373 \r\nL 117.690481 27.725373 \r\nL 117.690481 44.451526 \r\nL 97.087404 44.451526 \r\nL 97.087404 27.725373 \r\n\" style=\"fill:#6485ec;\"/>\r\n    <path clip-path=\"url(#p61576e154a)\" d=\"M 117.690481 27.725373 \r\nL 138.293558 27.725373 \r\nL 138.293558 44.451526 \r\nL 117.690481 44.451526 \r\nL 117.690481 27.725373 \r\n\" style=\"fill:#c4d5f3;\"/>\r\n    <path clip-path=\"url(#p61576e154a)\" d=\"M 138.293558 27.725373 \r\nL 158.896635 27.725373 \r\nL 158.896635 44.451526 \r\nL 138.293558 44.451526 \r\nL 138.293558 27.725373 \r\n\" style=\"fill:#6788ee;\"/>\r\n    <path clip-path=\"url(#p61576e154a)\" d=\"M 158.896635 27.725373 \r\nL 179.499712 27.725373 \r\nL 179.499712 44.451526 \r\nL 158.896635 44.451526 \r\nL 158.896635 27.725373 \r\n\" style=\"fill:#f3c8b2;\"/>\r\n    <path clip-path=\"url(#p61576e154a)\" d=\"M 179.499712 27.725373 \r\nL 200.102788 27.725373 \r\nL 200.102788 44.451526 \r\nL 179.499712 44.451526 \r\nL 179.499712 27.725373 \r\n\" style=\"fill:#5d7ce6;\"/>\r\n    <path clip-path=\"url(#p61576e154a)\" d=\"M 200.102788 27.725373 \r\nL 220.705865 27.725373 \r\nL 220.705865 44.451526 \r\nL 200.102788 44.451526 \r\nL 200.102788 27.725373 \r\n\" style=\"fill:#ec7f63;\"/>\r\n    <path clip-path=\"url(#p61576e154a)\" d=\"M 220.705865 27.725373 \r\nL 241.308942 27.725373 \r\nL 241.308942 44.451526 \r\nL 220.705865 44.451526 \r\nL 220.705865 27.725373 \r\n\" style=\"fill:#90b2fe;\"/>\r\n    <path clip-path=\"url(#p61576e154a)\" d=\"M 241.308942 27.725373 \r\nL 261.912019 27.725373 \r\nL 261.912019 44.451526 \r\nL 241.308942 44.451526 \r\nL 241.308942 27.725373 \r\n\" style=\"fill:#8fb1fe;\"/>\r\n    <path clip-path=\"url(#p61576e154a)\" d=\"M 261.912019 27.725373 \r\nL 282.515096 27.725373 \r\nL 282.515096 44.451526 \r\nL 261.912019 44.451526 \r\nL 261.912019 27.725373 \r\n\" style=\"fill:#80a3fa;\"/>\r\n    <path clip-path=\"url(#p61576e154a)\" d=\"M 282.515096 27.725373 \r\nL 303.118173 27.725373 \r\nL 303.118173 44.451526 \r\nL 282.515096 44.451526 \r\nL 282.515096 27.725373 \r\n\" style=\"fill:#e5d8d1;\"/>\r\n    <path clip-path=\"url(#p61576e154a)\" d=\"M 303.118173 27.725373 \r\nL 323.72125 27.725373 \r\nL 323.72125 44.451526 \r\nL 303.118173 44.451526 \r\nL 303.118173 27.725373 \r\n\" style=\"fill:#7b9ff9;\"/>\r\n    <path clip-path=\"url(#p61576e154a)\" d=\"M 55.88125 44.451526 \r\nL 76.484327 44.451526 \r\nL 76.484327 61.17768 \r\nL 55.88125 61.17768 \r\nL 55.88125 44.451526 \r\n\" style=\"fill:#f7b89c;\"/>\r\n    <path clip-path=\"url(#p61576e154a)\" d=\"M 76.484327 44.451526 \r\nL 97.087404 44.451526 \r\nL 97.087404 61.17768 \r\nL 76.484327 61.17768 \r\nL 76.484327 44.451526 \r\n\" style=\"fill:#6485ec;\"/>\r\n    <path clip-path=\"url(#p61576e154a)\" d=\"M 97.087404 44.451526 \r\nL 117.690481 44.451526 \r\nL 117.690481 61.17768 \r\nL 97.087404 61.17768 \r\nL 97.087404 44.451526 \r\n\" style=\"fill:#b40426;\"/>\r\n    <path clip-path=\"url(#p61576e154a)\" d=\"M 117.690481 44.451526 \r\nL 138.293558 44.451526 \r\nL 138.293558 61.17768 \r\nL 117.690481 61.17768 \r\nL 117.690481 44.451526 \r\n\" style=\"fill:#d5dbe5;\"/>\r\n    <path clip-path=\"url(#p61576e154a)\" d=\"M 138.293558 44.451526 \r\nL 158.896635 44.451526 \r\nL 158.896635 61.17768 \r\nL 138.293558 61.17768 \r\nL 138.293558 44.451526 \r\n\" style=\"fill:#e0654f;\"/>\r\n    <path clip-path=\"url(#p61576e154a)\" d=\"M 158.896635 44.451526 \r\nL 179.499712 44.451526 \r\nL 179.499712 61.17768 \r\nL 158.896635 61.17768 \r\nL 158.896635 44.451526 \r\n\" style=\"fill:#80a3fa;\"/>\r\n    <path clip-path=\"url(#p61576e154a)\" d=\"M 179.499712 44.451526 \r\nL 200.102788 44.451526 \r\nL 200.102788 61.17768 \r\nL 179.499712 61.17768 \r\nL 179.499712 44.451526 \r\n\" style=\"fill:#ee8468;\"/>\r\n    <path clip-path=\"url(#p61576e154a)\" d=\"M 200.102788 44.451526 \r\nL 220.705865 44.451526 \r\nL 220.705865 61.17768 \r\nL 200.102788 61.17768 \r\nL 200.102788 44.451526 \r\n\" style=\"fill:#445acc;\"/>\r\n    <path clip-path=\"url(#p61576e154a)\" d=\"M 220.705865 44.451526 \r\nL 241.308942 44.451526 \r\nL 241.308942 61.17768 \r\nL 220.705865 61.17768 \r\nL 220.705865 44.451526 \r\n\" style=\"fill:#f29072;\"/>\r\n    <path clip-path=\"url(#p61576e154a)\" d=\"M 241.308942 44.451526 \r\nL 261.912019 44.451526 \r\nL 261.912019 61.17768 \r\nL 241.308942 61.17768 \r\nL 241.308942 44.451526 \r\n\" style=\"fill:#e57058;\"/>\r\n    <path clip-path=\"url(#p61576e154a)\" d=\"M 261.912019 44.451526 \r\nL 282.515096 44.451526 \r\nL 282.515096 61.17768 \r\nL 261.912019 61.17768 \r\nL 261.912019 44.451526 \r\n\" style=\"fill:#f6bda2;\"/>\r\n    <path clip-path=\"url(#p61576e154a)\" d=\"M 282.515096 44.451526 \r\nL 303.118173 44.451526 \r\nL 303.118173 61.17768 \r\nL 282.515096 61.17768 \r\nL 282.515096 44.451526 \r\n\" style=\"fill:#86a9fc;\"/>\r\n    <path clip-path=\"url(#p61576e154a)\" d=\"M 303.118173 44.451526 \r\nL 323.72125 44.451526 \r\nL 323.72125 61.17768 \r\nL 303.118173 61.17768 \r\nL 303.118173 44.451526 \r\n\" style=\"fill:#f18f71;\"/>\r\n    <path clip-path=\"url(#p61576e154a)\" d=\"M 55.88125 61.17768 \r\nL 76.484327 61.17768 \r\nL 76.484327 77.903834 \r\nL 55.88125 77.903834 \r\nL 55.88125 61.17768 \r\n\" style=\"fill:#c1d4f4;\"/>\r\n    <path clip-path=\"url(#p61576e154a)\" d=\"M 76.484327 61.17768 \r\nL 97.087404 61.17768 \r\nL 97.087404 77.903834 \r\nL 76.484327 77.903834 \r\nL 76.484327 61.17768 \r\n\" style=\"fill:#c4d5f3;\"/>\r\n    <path clip-path=\"url(#p61576e154a)\" d=\"M 97.087404 61.17768 \r\nL 117.690481 61.17768 \r\nL 117.690481 77.903834 \r\nL 97.087404 77.903834 \r\nL 97.087404 61.17768 \r\n\" style=\"fill:#d5dbe5;\"/>\r\n    <path clip-path=\"url(#p61576e154a)\" d=\"M 117.690481 61.17768 \r\nL 138.293558 61.17768 \r\nL 138.293558 77.903834 \r\nL 117.690481 77.903834 \r\nL 117.690481 61.17768 \r\n\" style=\"fill:#b40426;\"/>\r\n    <path clip-path=\"url(#p61576e154a)\" d=\"M 138.293558 61.17768 \r\nL 158.896635 61.17768 \r\nL 158.896635 77.903834 \r\nL 138.293558 77.903834 \r\nL 138.293558 61.17768 \r\n\" style=\"fill:#d9dce1;\"/>\r\n    <path clip-path=\"url(#p61576e154a)\" d=\"M 158.896635 61.17768 \r\nL 179.499712 61.17768 \r\nL 179.499712 77.903834 \r\nL 158.896635 77.903834 \r\nL 158.896635 61.17768 \r\n\" style=\"fill:#d9dce1;\"/>\r\n    <path clip-path=\"url(#p61576e154a)\" d=\"M 179.499712 61.17768 \r\nL 200.102788 61.17768 \r\nL 200.102788 77.903834 \r\nL 179.499712 77.903834 \r\nL 179.499712 61.17768 \r\n\" style=\"fill:#d8dce2;\"/>\r\n    <path clip-path=\"url(#p61576e154a)\" d=\"M 200.102788 61.17768 \r\nL 220.705865 61.17768 \r\nL 220.705865 77.903834 \r\nL 200.102788 77.903834 \r\nL 200.102788 61.17768 \r\n\" style=\"fill:#b9d0f9;\"/>\r\n    <path clip-path=\"url(#p61576e154a)\" d=\"M 220.705865 61.17768 \r\nL 241.308942 61.17768 \r\nL 241.308942 77.903834 \r\nL 220.705865 77.903834 \r\nL 220.705865 61.17768 \r\n\" style=\"fill:#cad8ef;\"/>\r\n    <path clip-path=\"url(#p61576e154a)\" d=\"M 241.308942 61.17768 \r\nL 261.912019 61.17768 \r\nL 261.912019 77.903834 \r\nL 241.308942 77.903834 \r\nL 241.308942 61.17768 \r\n\" style=\"fill:#c5d6f2;\"/>\r\n    <path clip-path=\"url(#p61576e154a)\" d=\"M 261.912019 61.17768 \r\nL 282.515096 61.17768 \r\nL 282.515096 77.903834 \r\nL 261.912019 77.903834 \r\nL 261.912019 61.17768 \r\n\" style=\"fill:#b5cdfa;\"/>\r\n    <path clip-path=\"url(#p61576e154a)\" d=\"M 282.515096 61.17768 \r\nL 303.118173 61.17768 \r\nL 303.118173 77.903834 \r\nL 282.515096 77.903834 \r\nL 282.515096 61.17768 \r\n\" style=\"fill:#d3dbe7;\"/>\r\n    <path clip-path=\"url(#p61576e154a)\" d=\"M 303.118173 61.17768 \r\nL 323.72125 61.17768 \r\nL 323.72125 77.903834 \r\nL 303.118173 77.903834 \r\nL 303.118173 61.17768 \r\n\" style=\"fill:#c1d4f4;\"/>\r\n    <path clip-path=\"url(#p61576e154a)\" d=\"M 55.88125 77.903834 \r\nL 76.484327 77.903834 \r\nL 76.484327 94.629988 \r\nL 55.88125 94.629988 \r\nL 55.88125 77.903834 \r\n\" style=\"fill:#f7b599;\"/>\r\n    <path clip-path=\"url(#p61576e154a)\" d=\"M 76.484327 77.903834 \r\nL 97.087404 77.903834 \r\nL 97.087404 94.629988 \r\nL 76.484327 94.629988 \r\nL 76.484327 77.903834 \r\n\" style=\"fill:#6788ee;\"/>\r\n    <path clip-path=\"url(#p61576e154a)\" d=\"M 97.087404 77.903834 \r\nL 117.690481 77.903834 \r\nL 117.690481 94.629988 \r\nL 97.087404 94.629988 \r\nL 97.087404 77.903834 \r\n\" style=\"fill:#e0654f;\"/>\r\n    <path clip-path=\"url(#p61576e154a)\" d=\"M 117.690481 77.903834 \r\nL 138.293558 77.903834 \r\nL 138.293558 94.629988 \r\nL 117.690481 94.629988 \r\nL 117.690481 77.903834 \r\n\" style=\"fill:#d9dce1;\"/>\r\n    <path clip-path=\"url(#p61576e154a)\" d=\"M 138.293558 77.903834 \r\nL 158.896635 77.903834 \r\nL 158.896635 94.629988 \r\nL 138.293558 94.629988 \r\nL 138.293558 77.903834 \r\n\" style=\"fill:#b40426;\"/>\r\n    <path clip-path=\"url(#p61576e154a)\" d=\"M 158.896635 77.903834 \r\nL 179.499712 77.903834 \r\nL 179.499712 94.629988 \r\nL 158.896635 94.629988 \r\nL 158.896635 77.903834 \r\n\" style=\"fill:#92b4fe;\"/>\r\n    <path clip-path=\"url(#p61576e154a)\" d=\"M 179.499712 77.903834 \r\nL 200.102788 77.903834 \r\nL 200.102788 94.629988 \r\nL 179.499712 94.629988 \r\nL 179.499712 77.903834 \r\n\" style=\"fill:#e36c55;\"/>\r\n    <path clip-path=\"url(#p61576e154a)\" d=\"M 200.102788 77.903834 \r\nL 220.705865 77.903834 \r\nL 220.705865 94.629988 \r\nL 200.102788 94.629988 \r\nL 200.102788 77.903834 \r\n\" style=\"fill:#3b4cc0;\"/>\r\n    <path clip-path=\"url(#p61576e154a)\" d=\"M 220.705865 77.903834 \r\nL 241.308942 77.903834 \r\nL 241.308942 94.629988 \r\nL 220.705865 94.629988 \r\nL 220.705865 77.903834 \r\n\" style=\"fill:#f18d6f;\"/>\r\n    <path clip-path=\"url(#p61576e154a)\" d=\"M 241.308942 77.903834 \r\nL 261.912019 77.903834 \r\nL 261.912019 94.629988 \r\nL 241.308942 94.629988 \r\nL 241.308942 77.903834 \r\n\" style=\"fill:#ec7f63;\"/>\r\n    <path clip-path=\"url(#p61576e154a)\" d=\"M 261.912019 77.903834 \r\nL 282.515096 77.903834 \r\nL 282.515096 94.629988 \r\nL 261.912019 94.629988 \r\nL 261.912019 77.903834 \r\n\" style=\"fill:#e7d7ce;\"/>\r\n    <path clip-path=\"url(#p61576e154a)\" d=\"M 282.515096 77.903834 \r\nL 303.118173 77.903834 \r\nL 303.118173 94.629988 \r\nL 282.515096 94.629988 \r\nL 282.515096 77.903834 \r\n\" style=\"fill:#82a6fb;\"/>\r\n    <path clip-path=\"url(#p61576e154a)\" d=\"M 303.118173 77.903834 \r\nL 323.72125 77.903834 \r\nL 323.72125 94.629988 \r\nL 303.118173 94.629988 \r\nL 303.118173 77.903834 \r\n\" style=\"fill:#f29274;\"/>\r\n    <path clip-path=\"url(#p61576e154a)\" d=\"M 55.88125 94.629988 \r\nL 76.484327 94.629988 \r\nL 76.484327 111.356142 \r\nL 55.88125 111.356142 \r\nL 55.88125 94.629988 \r\n\" style=\"fill:#a2c1ff;\"/>\r\n    <path clip-path=\"url(#p61576e154a)\" d=\"M 76.484327 94.629988 \r\nL 97.087404 94.629988 \r\nL 97.087404 111.356142 \r\nL 76.484327 111.356142 \r\nL 76.484327 94.629988 \r\n\" style=\"fill:#f3c8b2;\"/>\r\n    <path clip-path=\"url(#p61576e154a)\" d=\"M 97.087404 94.629988 \r\nL 117.690481 94.629988 \r\nL 117.690481 111.356142 \r\nL 97.087404 111.356142 \r\nL 97.087404 94.629988 \r\n\" style=\"fill:#80a3fa;\"/>\r\n    <path clip-path=\"url(#p61576e154a)\" d=\"M 117.690481 94.629988 \r\nL 138.293558 94.629988 \r\nL 138.293558 111.356142 \r\nL 117.690481 111.356142 \r\nL 117.690481 94.629988 \r\n\" style=\"fill:#d9dce1;\"/>\r\n    <path clip-path=\"url(#p61576e154a)\" d=\"M 138.293558 94.629988 \r\nL 158.896635 94.629988 \r\nL 158.896635 111.356142 \r\nL 138.293558 111.356142 \r\nL 138.293558 94.629988 \r\n\" style=\"fill:#92b4fe;\"/>\r\n    <path clip-path=\"url(#p61576e154a)\" d=\"M 158.896635 94.629988 \r\nL 179.499712 94.629988 \r\nL 179.499712 111.356142 \r\nL 158.896635 111.356142 \r\nL 158.896635 94.629988 \r\n\" style=\"fill:#b40426;\"/>\r\n    <path clip-path=\"url(#p61576e154a)\" d=\"M 179.499712 94.629988 \r\nL 200.102788 94.629988 \r\nL 200.102788 111.356142 \r\nL 179.499712 111.356142 \r\nL 179.499712 94.629988 \r\n\" style=\"fill:#9ebeff;\"/>\r\n    <path clip-path=\"url(#p61576e154a)\" d=\"M 200.102788 94.629988 \r\nL 220.705865 94.629988 \r\nL 220.705865 111.356142 \r\nL 200.102788 111.356142 \r\nL 200.102788 94.629988 \r\n\" style=\"fill:#ead5c9;\"/>\r\n    <path clip-path=\"url(#p61576e154a)\" d=\"M 220.705865 94.629988 \r\nL 241.308942 94.629988 \r\nL 241.308942 111.356142 \r\nL 220.705865 111.356142 \r\nL 220.705865 94.629988 \r\n\" style=\"fill:#a3c2fe;\"/>\r\n    <path clip-path=\"url(#p61576e154a)\" d=\"M 241.308942 94.629988 \r\nL 261.912019 94.629988 \r\nL 261.912019 111.356142 \r\nL 241.308942 111.356142 \r\nL 241.308942 94.629988 \r\n\" style=\"fill:#94b6ff;\"/>\r\n    <path clip-path=\"url(#p61576e154a)\" d=\"M 261.912019 94.629988 \r\nL 282.515096 94.629988 \r\nL 282.515096 111.356142 \r\nL 261.912019 111.356142 \r\nL 261.912019 94.629988 \r\n\" style=\"fill:#86a9fc;\"/>\r\n    <path clip-path=\"url(#p61576e154a)\" d=\"M 282.515096 94.629988 \r\nL 303.118173 94.629988 \r\nL 303.118173 111.356142 \r\nL 282.515096 111.356142 \r\nL 282.515096 94.629988 \r\n\" style=\"fill:#dedcdb;\"/>\r\n    <path clip-path=\"url(#p61576e154a)\" d=\"M 303.118173 94.629988 \r\nL 323.72125 94.629988 \r\nL 323.72125 111.356142 \r\nL 303.118173 111.356142 \r\nL 303.118173 94.629988 \r\n\" style=\"fill:#5572df;\"/>\r\n    <path clip-path=\"url(#p61576e154a)\" d=\"M 55.88125 111.356142 \r\nL 76.484327 111.356142 \r\nL 76.484327 128.082296 \r\nL 55.88125 128.082296 \r\nL 55.88125 111.356142 \r\n\" style=\"fill:#f5c1a9;\"/>\r\n    <path clip-path=\"url(#p61576e154a)\" d=\"M 76.484327 111.356142 \r\nL 97.087404 111.356142 \r\nL 97.087404 128.082296 \r\nL 76.484327 128.082296 \r\nL 76.484327 111.356142 \r\n\" style=\"fill:#5d7ce6;\"/>\r\n    <path clip-path=\"url(#p61576e154a)\" d=\"M 97.087404 111.356142 \r\nL 117.690481 111.356142 \r\nL 117.690481 128.082296 \r\nL 97.087404 128.082296 \r\nL 97.087404 111.356142 \r\n\" style=\"fill:#ee8468;\"/>\r\n    <path clip-path=\"url(#p61576e154a)\" d=\"M 117.690481 111.356142 \r\nL 138.293558 111.356142 \r\nL 138.293558 128.082296 \r\nL 117.690481 128.082296 \r\nL 117.690481 111.356142 \r\n\" style=\"fill:#d8dce2;\"/>\r\n    <path clip-path=\"url(#p61576e154a)\" d=\"M 138.293558 111.356142 \r\nL 158.896635 111.356142 \r\nL 158.896635 128.082296 \r\nL 138.293558 128.082296 \r\nL 138.293558 111.356142 \r\n\" style=\"fill:#e36c55;\"/>\r\n    <path clip-path=\"url(#p61576e154a)\" d=\"M 158.896635 111.356142 \r\nL 179.499712 111.356142 \r\nL 179.499712 128.082296 \r\nL 158.896635 128.082296 \r\nL 158.896635 111.356142 \r\n\" style=\"fill:#9ebeff;\"/>\r\n    <path clip-path=\"url(#p61576e154a)\" d=\"M 179.499712 111.356142 \r\nL 200.102788 111.356142 \r\nL 200.102788 128.082296 \r\nL 179.499712 128.082296 \r\nL 179.499712 111.356142 \r\n\" style=\"fill:#b40426;\"/>\r\n    <path clip-path=\"url(#p61576e154a)\" d=\"M 200.102788 111.356142 \r\nL 220.705865 111.356142 \r\nL 220.705865 128.082296 \r\nL 200.102788 128.082296 \r\nL 200.102788 111.356142 \r\n\" style=\"fill:#3e51c5;\"/>\r\n    <path clip-path=\"url(#p61576e154a)\" d=\"M 220.705865 111.356142 \r\nL 241.308942 111.356142 \r\nL 241.308942 128.082296 \r\nL 220.705865 128.082296 \r\nL 220.705865 111.356142 \r\n\" style=\"fill:#f7af91;\"/>\r\n    <path clip-path=\"url(#p61576e154a)\" d=\"M 241.308942 111.356142 \r\nL 261.912019 111.356142 \r\nL 261.912019 128.082296 \r\nL 241.308942 128.082296 \r\nL 241.308942 111.356142 \r\n\" style=\"fill:#f6a586;\"/>\r\n    <path clip-path=\"url(#p61576e154a)\" d=\"M 261.912019 111.356142 \r\nL 282.515096 111.356142 \r\nL 282.515096 128.082296 \r\nL 261.912019 128.082296 \r\nL 261.912019 111.356142 \r\n\" style=\"fill:#efcebd;\"/>\r\n    <path clip-path=\"url(#p61576e154a)\" d=\"M 282.515096 111.356142 \r\nL 303.118173 111.356142 \r\nL 303.118173 128.082296 \r\nL 282.515096 128.082296 \r\nL 282.515096 111.356142 \r\n\" style=\"fill:#97b8ff;\"/>\r\n    <path clip-path=\"url(#p61576e154a)\" d=\"M 303.118173 111.356142 \r\nL 323.72125 111.356142 \r\nL 323.72125 128.082296 \r\nL 303.118173 128.082296 \r\nL 303.118173 111.356142 \r\n\" style=\"fill:#f18f71;\"/>\r\n    <path clip-path=\"url(#p61576e154a)\" d=\"M 55.88125 128.082296 \r\nL 76.484327 128.082296 \r\nL 76.484327 144.80845 \r\nL 55.88125 144.80845 \r\nL 55.88125 128.082296 \r\n\" style=\"fill:#82a6fb;\"/>\r\n    <path clip-path=\"url(#p61576e154a)\" d=\"M 76.484327 128.082296 \r\nL 97.087404 128.082296 \r\nL 97.087404 144.80845 \r\nL 76.484327 144.80845 \r\nL 76.484327 128.082296 \r\n\" style=\"fill:#ec7f63;\"/>\r\n    <path clip-path=\"url(#p61576e154a)\" d=\"M 97.087404 128.082296 \r\nL 117.690481 128.082296 \r\nL 117.690481 144.80845 \r\nL 97.087404 144.80845 \r\nL 97.087404 128.082296 \r\n\" style=\"fill:#445acc;\"/>\r\n    <path clip-path=\"url(#p61576e154a)\" d=\"M 117.690481 128.082296 \r\nL 138.293558 128.082296 \r\nL 138.293558 144.80845 \r\nL 117.690481 144.80845 \r\nL 117.690481 128.082296 \r\n\" style=\"fill:#b9d0f9;\"/>\r\n    <path clip-path=\"url(#p61576e154a)\" d=\"M 138.293558 128.082296 \r\nL 158.896635 128.082296 \r\nL 158.896635 144.80845 \r\nL 138.293558 144.80845 \r\nL 138.293558 128.082296 \r\n\" style=\"fill:#3b4cc0;\"/>\r\n    <path clip-path=\"url(#p61576e154a)\" d=\"M 158.896635 128.082296 \r\nL 179.499712 128.082296 \r\nL 179.499712 144.80845 \r\nL 158.896635 144.80845 \r\nL 158.896635 128.082296 \r\n\" style=\"fill:#ead5c9;\"/>\r\n    <path clip-path=\"url(#p61576e154a)\" d=\"M 179.499712 128.082296 \r\nL 200.102788 128.082296 \r\nL 200.102788 144.80845 \r\nL 179.499712 144.80845 \r\nL 179.499712 128.082296 \r\n\" style=\"fill:#3e51c5;\"/>\r\n    <path clip-path=\"url(#p61576e154a)\" d=\"M 200.102788 128.082296 \r\nL 220.705865 128.082296 \r\nL 220.705865 144.80845 \r\nL 200.102788 144.80845 \r\nL 200.102788 128.082296 \r\n\" style=\"fill:#b40426;\"/>\r\n    <path clip-path=\"url(#p61576e154a)\" d=\"M 220.705865 128.082296 \r\nL 241.308942 128.082296 \r\nL 241.308942 144.80845 \r\nL 220.705865 144.80845 \r\nL 220.705865 128.082296 \r\n\" style=\"fill:#6b8df0;\"/>\r\n    <path clip-path=\"url(#p61576e154a)\" d=\"M 241.308942 128.082296 \r\nL 261.912019 128.082296 \r\nL 261.912019 144.80845 \r\nL 241.308942 144.80845 \r\nL 241.308942 128.082296 \r\n\" style=\"fill:#6384eb;\"/>\r\n    <path clip-path=\"url(#p61576e154a)\" d=\"M 261.912019 128.082296 \r\nL 282.515096 128.082296 \r\nL 282.515096 144.80845 \r\nL 261.912019 144.80845 \r\nL 261.912019 128.082296 \r\n\" style=\"fill:#9fbfff;\"/>\r\n    <path clip-path=\"url(#p61576e154a)\" d=\"M 282.515096 128.082296 \r\nL 303.118173 128.082296 \r\nL 303.118173 144.80845 \r\nL 282.515096 144.80845 \r\nL 282.515096 128.082296 \r\n\" style=\"fill:#f2cbb7;\"/>\r\n    <path clip-path=\"url(#p61576e154a)\" d=\"M 303.118173 128.082296 \r\nL 323.72125 128.082296 \r\nL 323.72125 144.80845 \r\nL 303.118173 144.80845 \r\nL 303.118173 128.082296 \r\n\" style=\"fill:#6b8df0;\"/>\r\n    <path clip-path=\"url(#p61576e154a)\" d=\"M 55.88125 144.80845 \r\nL 76.484327 144.80845 \r\nL 76.484327 161.534603 \r\nL 55.88125 161.534603 \r\nL 55.88125 144.80845 \r\n\" style=\"fill:#f08a6c;\"/>\r\n    <path clip-path=\"url(#p61576e154a)\" d=\"M 76.484327 144.80845 \r\nL 97.087404 144.80845 \r\nL 97.087404 161.534603 \r\nL 76.484327 161.534603 \r\nL 76.484327 144.80845 \r\n\" style=\"fill:#90b2fe;\"/>\r\n    <path clip-path=\"url(#p61576e154a)\" d=\"M 97.087404 144.80845 \r\nL 117.690481 144.80845 \r\nL 117.690481 161.534603 \r\nL 97.087404 161.534603 \r\nL 97.087404 144.80845 \r\n\" style=\"fill:#f29072;\"/>\r\n    <path clip-path=\"url(#p61576e154a)\" d=\"M 117.690481 144.80845 \r\nL 138.293558 144.80845 \r\nL 138.293558 161.534603 \r\nL 117.690481 161.534603 \r\nL 117.690481 144.80845 \r\n\" style=\"fill:#cad8ef;\"/>\r\n    <path clip-path=\"url(#p61576e154a)\" d=\"M 138.293558 144.80845 \r\nL 158.896635 144.80845 \r\nL 158.896635 161.534603 \r\nL 138.293558 161.534603 \r\nL 138.293558 144.80845 \r\n\" style=\"fill:#f18d6f;\"/>\r\n    <path clip-path=\"url(#p61576e154a)\" d=\"M 158.896635 144.80845 \r\nL 179.499712 144.80845 \r\nL 179.499712 161.534603 \r\nL 158.896635 161.534603 \r\nL 158.896635 144.80845 \r\n\" style=\"fill:#a3c2fe;\"/>\r\n    <path clip-path=\"url(#p61576e154a)\" d=\"M 179.499712 144.80845 \r\nL 200.102788 144.80845 \r\nL 200.102788 161.534603 \r\nL 179.499712 161.534603 \r\nL 179.499712 144.80845 \r\n\" style=\"fill:#f7af91;\"/>\r\n    <path clip-path=\"url(#p61576e154a)\" d=\"M 200.102788 144.80845 \r\nL 220.705865 144.80845 \r\nL 220.705865 161.534603 \r\nL 200.102788 161.534603 \r\nL 200.102788 144.80845 \r\n\" style=\"fill:#6b8df0;\"/>\r\n    <path clip-path=\"url(#p61576e154a)\" d=\"M 220.705865 144.80845 \r\nL 241.308942 144.80845 \r\nL 241.308942 161.534603 \r\nL 220.705865 161.534603 \r\nL 220.705865 144.80845 \r\n\" style=\"fill:#b40426;\"/>\r\n    <path clip-path=\"url(#p61576e154a)\" d=\"M 241.308942 144.80845 \r\nL 261.912019 144.80845 \r\nL 261.912019 161.534603 \r\nL 241.308942 161.534603 \r\nL 241.308942 144.80845 \r\n\" style=\"fill:#c53334;\"/>\r\n    <path clip-path=\"url(#p61576e154a)\" d=\"M 261.912019 144.80845 \r\nL 282.515096 144.80845 \r\nL 282.515096 161.534603 \r\nL 261.912019 161.534603 \r\nL 261.912019 144.80845 \r\n\" style=\"fill:#f7ad90;\"/>\r\n    <path clip-path=\"url(#p61576e154a)\" d=\"M 282.515096 144.80845 \r\nL 303.118173 144.80845 \r\nL 303.118173 161.534603 \r\nL 282.515096 161.534603 \r\nL 282.515096 144.80845 \r\n\" style=\"fill:#7597f6;\"/>\r\n    <path clip-path=\"url(#p61576e154a)\" d=\"M 303.118173 144.80845 \r\nL 323.72125 144.80845 \r\nL 323.72125 161.534603 \r\nL 303.118173 161.534603 \r\nL 303.118173 144.80845 \r\n\" style=\"fill:#f7a889;\"/>\r\n    <path clip-path=\"url(#p61576e154a)\" d=\"M 55.88125 161.534603 \r\nL 76.484327 161.534603 \r\nL 76.484327 178.260757 \r\nL 55.88125 178.260757 \r\nL 55.88125 161.534603 \r\n\" style=\"fill:#f39475;\"/>\r\n    <path clip-path=\"url(#p61576e154a)\" d=\"M 76.484327 161.534603 \r\nL 97.087404 161.534603 \r\nL 97.087404 178.260757 \r\nL 76.484327 178.260757 \r\nL 76.484327 161.534603 \r\n\" style=\"fill:#8fb1fe;\"/>\r\n    <path clip-path=\"url(#p61576e154a)\" d=\"M 97.087404 161.534603 \r\nL 117.690481 161.534603 \r\nL 117.690481 178.260757 \r\nL 97.087404 178.260757 \r\nL 97.087404 161.534603 \r\n\" style=\"fill:#e57058;\"/>\r\n    <path clip-path=\"url(#p61576e154a)\" d=\"M 117.690481 161.534603 \r\nL 138.293558 161.534603 \r\nL 138.293558 178.260757 \r\nL 117.690481 178.260757 \r\nL 117.690481 161.534603 \r\n\" style=\"fill:#c5d6f2;\"/>\r\n    <path clip-path=\"url(#p61576e154a)\" d=\"M 138.293558 161.534603 \r\nL 158.896635 161.534603 \r\nL 158.896635 178.260757 \r\nL 138.293558 178.260757 \r\nL 138.293558 161.534603 \r\n\" style=\"fill:#ec7f63;\"/>\r\n    <path clip-path=\"url(#p61576e154a)\" d=\"M 158.896635 161.534603 \r\nL 179.499712 161.534603 \r\nL 179.499712 178.260757 \r\nL 158.896635 178.260757 \r\nL 158.896635 161.534603 \r\n\" style=\"fill:#94b6ff;\"/>\r\n    <path clip-path=\"url(#p61576e154a)\" d=\"M 179.499712 161.534603 \r\nL 200.102788 161.534603 \r\nL 200.102788 178.260757 \r\nL 179.499712 178.260757 \r\nL 179.499712 161.534603 \r\n\" style=\"fill:#f6a586;\"/>\r\n    <path clip-path=\"url(#p61576e154a)\" d=\"M 200.102788 161.534603 \r\nL 220.705865 161.534603 \r\nL 220.705865 178.260757 \r\nL 200.102788 178.260757 \r\nL 200.102788 161.534603 \r\n\" style=\"fill:#6384eb;\"/>\r\n    <path clip-path=\"url(#p61576e154a)\" d=\"M 220.705865 161.534603 \r\nL 241.308942 161.534603 \r\nL 241.308942 178.260757 \r\nL 220.705865 178.260757 \r\nL 220.705865 161.534603 \r\n\" style=\"fill:#c53334;\"/>\r\n    <path clip-path=\"url(#p61576e154a)\" d=\"M 241.308942 161.534603 \r\nL 261.912019 161.534603 \r\nL 261.912019 178.260757 \r\nL 241.308942 178.260757 \r\nL 241.308942 161.534603 \r\n\" style=\"fill:#b40426;\"/>\r\n    <path clip-path=\"url(#p61576e154a)\" d=\"M 261.912019 161.534603 \r\nL 282.515096 161.534603 \r\nL 282.515096 178.260757 \r\nL 261.912019 178.260757 \r\nL 261.912019 161.534603 \r\n\" style=\"fill:#f7af91;\"/>\r\n    <path clip-path=\"url(#p61576e154a)\" d=\"M 282.515096 161.534603 \r\nL 303.118173 161.534603 \r\nL 303.118173 178.260757 \r\nL 282.515096 178.260757 \r\nL 282.515096 161.534603 \r\n\" style=\"fill:#7699f6;\"/>\r\n    <path clip-path=\"url(#p61576e154a)\" d=\"M 303.118173 161.534603 \r\nL 323.72125 161.534603 \r\nL 323.72125 178.260757 \r\nL 303.118173 178.260757 \r\nL 303.118173 161.534603 \r\n\" style=\"fill:#f59c7d;\"/>\r\n    <path clip-path=\"url(#p61576e154a)\" d=\"M 55.88125 178.260757 \r\nL 76.484327 178.260757 \r\nL 76.484327 194.986911 \r\nL 55.88125 194.986911 \r\nL 55.88125 178.260757 \r\n\" style=\"fill:#f2cbb7;\"/>\r\n    <path clip-path=\"url(#p61576e154a)\" d=\"M 76.484327 178.260757 \r\nL 97.087404 178.260757 \r\nL 97.087404 194.986911 \r\nL 76.484327 194.986911 \r\nL 76.484327 178.260757 \r\n\" style=\"fill:#80a3fa;\"/>\r\n    <path clip-path=\"url(#p61576e154a)\" d=\"M 97.087404 178.260757 \r\nL 117.690481 178.260757 \r\nL 117.690481 194.986911 \r\nL 97.087404 194.986911 \r\nL 97.087404 178.260757 \r\n\" style=\"fill:#f6bda2;\"/>\r\n    <path clip-path=\"url(#p61576e154a)\" d=\"M 117.690481 178.260757 \r\nL 138.293558 178.260757 \r\nL 138.293558 194.986911 \r\nL 117.690481 194.986911 \r\nL 117.690481 178.260757 \r\n\" style=\"fill:#b5cdfa;\"/>\r\n    <path clip-path=\"url(#p61576e154a)\" d=\"M 138.293558 178.260757 \r\nL 158.896635 178.260757 \r\nL 158.896635 194.986911 \r\nL 138.293558 194.986911 \r\nL 138.293558 178.260757 \r\n\" style=\"fill:#e7d7ce;\"/>\r\n    <path clip-path=\"url(#p61576e154a)\" d=\"M 158.896635 178.260757 \r\nL 179.499712 178.260757 \r\nL 179.499712 194.986911 \r\nL 158.896635 194.986911 \r\nL 158.896635 178.260757 \r\n\" style=\"fill:#86a9fc;\"/>\r\n    <path clip-path=\"url(#p61576e154a)\" d=\"M 179.499712 178.260757 \r\nL 200.102788 178.260757 \r\nL 200.102788 194.986911 \r\nL 179.499712 194.986911 \r\nL 179.499712 178.260757 \r\n\" style=\"fill:#efcebd;\"/>\r\n    <path clip-path=\"url(#p61576e154a)\" d=\"M 200.102788 178.260757 \r\nL 220.705865 178.260757 \r\nL 220.705865 194.986911 \r\nL 200.102788 194.986911 \r\nL 200.102788 178.260757 \r\n\" style=\"fill:#9fbfff;\"/>\r\n    <path clip-path=\"url(#p61576e154a)\" d=\"M 220.705865 178.260757 \r\nL 241.308942 178.260757 \r\nL 241.308942 194.986911 \r\nL 220.705865 194.986911 \r\nL 220.705865 178.260757 \r\n\" style=\"fill:#f7ad90;\"/>\r\n    <path clip-path=\"url(#p61576e154a)\" d=\"M 241.308942 178.260757 \r\nL 261.912019 178.260757 \r\nL 261.912019 194.986911 \r\nL 241.308942 194.986911 \r\nL 241.308942 178.260757 \r\n\" style=\"fill:#f7af91;\"/>\r\n    <path clip-path=\"url(#p61576e154a)\" d=\"M 261.912019 178.260757 \r\nL 282.515096 178.260757 \r\nL 282.515096 194.986911 \r\nL 261.912019 194.986911 \r\nL 261.912019 178.260757 \r\n\" style=\"fill:#b40426;\"/>\r\n    <path clip-path=\"url(#p61576e154a)\" d=\"M 282.515096 178.260757 \r\nL 303.118173 178.260757 \r\nL 303.118173 194.986911 \r\nL 282.515096 194.986911 \r\nL 282.515096 178.260757 \r\n\" style=\"fill:#aac7fd;\"/>\r\n    <path clip-path=\"url(#p61576e154a)\" d=\"M 303.118173 178.260757 \r\nL 323.72125 178.260757 \r\nL 323.72125 194.986911 \r\nL 303.118173 194.986911 \r\nL 303.118173 178.260757 \r\n\" style=\"fill:#f6bea4;\"/>\r\n    <path clip-path=\"url(#p61576e154a)\" d=\"M 55.88125 194.986911 \r\nL 76.484327 194.986911 \r\nL 76.484327 211.713065 \r\nL 55.88125 211.713065 \r\nL 55.88125 194.986911 \r\n\" style=\"fill:#81a4fb;\"/>\r\n    <path clip-path=\"url(#p61576e154a)\" d=\"M 76.484327 194.986911 \r\nL 97.087404 194.986911 \r\nL 97.087404 211.713065 \r\nL 76.484327 211.713065 \r\nL 76.484327 194.986911 \r\n\" style=\"fill:#e5d8d1;\"/>\r\n    <path clip-path=\"url(#p61576e154a)\" d=\"M 97.087404 194.986911 \r\nL 117.690481 194.986911 \r\nL 117.690481 211.713065 \r\nL 97.087404 211.713065 \r\nL 97.087404 194.986911 \r\n\" style=\"fill:#86a9fc;\"/>\r\n    <path clip-path=\"url(#p61576e154a)\" d=\"M 117.690481 194.986911 \r\nL 138.293558 194.986911 \r\nL 138.293558 211.713065 \r\nL 117.690481 211.713065 \r\nL 117.690481 194.986911 \r\n\" style=\"fill:#d3dbe7;\"/>\r\n    <path clip-path=\"url(#p61576e154a)\" d=\"M 138.293558 194.986911 \r\nL 158.896635 194.986911 \r\nL 158.896635 211.713065 \r\nL 138.293558 211.713065 \r\nL 138.293558 194.986911 \r\n\" style=\"fill:#82a6fb;\"/>\r\n    <path clip-path=\"url(#p61576e154a)\" d=\"M 158.896635 194.986911 \r\nL 179.499712 194.986911 \r\nL 179.499712 211.713065 \r\nL 158.896635 211.713065 \r\nL 158.896635 194.986911 \r\n\" style=\"fill:#dedcdb;\"/>\r\n    <path clip-path=\"url(#p61576e154a)\" d=\"M 179.499712 194.986911 \r\nL 200.102788 194.986911 \r\nL 200.102788 211.713065 \r\nL 179.499712 211.713065 \r\nL 179.499712 194.986911 \r\n\" style=\"fill:#97b8ff;\"/>\r\n    <path clip-path=\"url(#p61576e154a)\" d=\"M 200.102788 194.986911 \r\nL 220.705865 194.986911 \r\nL 220.705865 211.713065 \r\nL 200.102788 211.713065 \r\nL 200.102788 194.986911 \r\n\" style=\"fill:#f2cbb7;\"/>\r\n    <path clip-path=\"url(#p61576e154a)\" d=\"M 220.705865 194.986911 \r\nL 241.308942 194.986911 \r\nL 241.308942 211.713065 \r\nL 220.705865 211.713065 \r\nL 220.705865 194.986911 \r\n\" style=\"fill:#7597f6;\"/>\r\n    <path clip-path=\"url(#p61576e154a)\" d=\"M 241.308942 194.986911 \r\nL 261.912019 194.986911 \r\nL 261.912019 211.713065 \r\nL 241.308942 211.713065 \r\nL 241.308942 194.986911 \r\n\" style=\"fill:#7699f6;\"/>\r\n    <path clip-path=\"url(#p61576e154a)\" d=\"M 261.912019 194.986911 \r\nL 282.515096 194.986911 \r\nL 282.515096 211.713065 \r\nL 261.912019 211.713065 \r\nL 261.912019 194.986911 \r\n\" style=\"fill:#aac7fd;\"/>\r\n    <path clip-path=\"url(#p61576e154a)\" d=\"M 282.515096 194.986911 \r\nL 303.118173 194.986911 \r\nL 303.118173 211.713065 \r\nL 282.515096 211.713065 \r\nL 282.515096 194.986911 \r\n\" style=\"fill:#b40426;\"/>\r\n    <path clip-path=\"url(#p61576e154a)\" d=\"M 303.118173 194.986911 \r\nL 323.72125 194.986911 \r\nL 323.72125 211.713065 \r\nL 303.118173 211.713065 \r\nL 303.118173 194.986911 \r\n\" style=\"fill:#85a8fc;\"/>\r\n    <path clip-path=\"url(#p61576e154a)\" d=\"M 55.88125 211.713065 \r\nL 76.484327 211.713065 \r\nL 76.484327 228.439219 \r\nL 55.88125 228.439219 \r\nL 55.88125 211.713065 \r\n\" style=\"fill:#f7af91;\"/>\r\n    <path clip-path=\"url(#p61576e154a)\" d=\"M 76.484327 211.713065 \r\nL 97.087404 211.713065 \r\nL 97.087404 228.439219 \r\nL 76.484327 228.439219 \r\nL 76.484327 211.713065 \r\n\" style=\"fill:#7b9ff9;\"/>\r\n    <path clip-path=\"url(#p61576e154a)\" d=\"M 97.087404 211.713065 \r\nL 117.690481 211.713065 \r\nL 117.690481 228.439219 \r\nL 97.087404 228.439219 \r\nL 97.087404 211.713065 \r\n\" style=\"fill:#f18f71;\"/>\r\n    <path clip-path=\"url(#p61576e154a)\" d=\"M 117.690481 211.713065 \r\nL 138.293558 211.713065 \r\nL 138.293558 228.439219 \r\nL 117.690481 228.439219 \r\nL 117.690481 211.713065 \r\n\" style=\"fill:#c1d4f4;\"/>\r\n    <path clip-path=\"url(#p61576e154a)\" d=\"M 138.293558 211.713065 \r\nL 158.896635 211.713065 \r\nL 158.896635 228.439219 \r\nL 138.293558 228.439219 \r\nL 138.293558 211.713065 \r\n\" style=\"fill:#f29274;\"/>\r\n    <path clip-path=\"url(#p61576e154a)\" d=\"M 158.896635 211.713065 \r\nL 179.499712 211.713065 \r\nL 179.499712 228.439219 \r\nL 158.896635 228.439219 \r\nL 158.896635 211.713065 \r\n\" style=\"fill:#5572df;\"/>\r\n    <path clip-path=\"url(#p61576e154a)\" d=\"M 179.499712 211.713065 \r\nL 200.102788 211.713065 \r\nL 200.102788 228.439219 \r\nL 179.499712 228.439219 \r\nL 179.499712 211.713065 \r\n\" style=\"fill:#f18f71;\"/>\r\n    <path clip-path=\"url(#p61576e154a)\" d=\"M 200.102788 211.713065 \r\nL 220.705865 211.713065 \r\nL 220.705865 228.439219 \r\nL 200.102788 228.439219 \r\nL 200.102788 211.713065 \r\n\" style=\"fill:#6b8df0;\"/>\r\n    <path clip-path=\"url(#p61576e154a)\" d=\"M 220.705865 211.713065 \r\nL 241.308942 211.713065 \r\nL 241.308942 228.439219 \r\nL 220.705865 228.439219 \r\nL 220.705865 211.713065 \r\n\" style=\"fill:#f7a889;\"/>\r\n    <path clip-path=\"url(#p61576e154a)\" d=\"M 241.308942 211.713065 \r\nL 261.912019 211.713065 \r\nL 261.912019 228.439219 \r\nL 241.308942 228.439219 \r\nL 241.308942 211.713065 \r\n\" style=\"fill:#f59c7d;\"/>\r\n    <path clip-path=\"url(#p61576e154a)\" d=\"M 261.912019 211.713065 \r\nL 282.515096 211.713065 \r\nL 282.515096 228.439219 \r\nL 261.912019 228.439219 \r\nL 261.912019 211.713065 \r\n\" style=\"fill:#f6bea4;\"/>\r\n    <path clip-path=\"url(#p61576e154a)\" d=\"M 282.515096 211.713065 \r\nL 303.118173 211.713065 \r\nL 303.118173 228.439219 \r\nL 282.515096 228.439219 \r\nL 282.515096 211.713065 \r\n\" style=\"fill:#85a8fc;\"/>\r\n    <path clip-path=\"url(#p61576e154a)\" d=\"M 303.118173 211.713065 \r\nL 323.72125 211.713065 \r\nL 323.72125 228.439219 \r\nL 303.118173 228.439219 \r\nL 303.118173 211.713065 \r\n\" style=\"fill:#b40426;\"/>\r\n   </g>\r\n   <g id=\"matplotlib.axis_1\">\r\n    <g id=\"xtick_1\">\r\n     <g id=\"line2d_1\">\r\n      <defs>\r\n       <path d=\"M 0 0 \r\nL 0 3.5 \r\n\" id=\"m88fc882edb\" style=\"stroke:#000000;stroke-width:0.8;\"/>\r\n      </defs>\r\n      <g>\r\n       <use style=\"stroke:#000000;stroke-width:0.8;\" x=\"66.182788\" xlink:href=\"#m88fc882edb\" y=\"228.439219\"/>\r\n      </g>\r\n     </g>\r\n     <g id=\"text_1\">\r\n      <!-- CRIM -->\r\n      <g transform=\"translate(68.942163 260.948594)rotate(-90)scale(0.1 -0.1)\">\r\n       <defs>\r\n        <path d=\"M 64.40625 67.28125 \r\nL 64.40625 56.890625 \r\nQ 59.421875 61.53125 53.78125 63.8125 \r\nQ 48.140625 66.109375 41.796875 66.109375 \r\nQ 29.296875 66.109375 22.65625 58.46875 \r\nQ 16.015625 50.828125 16.015625 36.375 \r\nQ 16.015625 21.96875 22.65625 14.328125 \r\nQ 29.296875 6.6875 41.796875 6.6875 \r\nQ 48.140625 6.6875 53.78125 8.984375 \r\nQ 59.421875 11.28125 64.40625 15.921875 \r\nL 64.40625 5.609375 \r\nQ 59.234375 2.09375 53.4375 0.328125 \r\nQ 47.65625 -1.421875 41.21875 -1.421875 \r\nQ 24.65625 -1.421875 15.125 8.703125 \r\nQ 5.609375 18.84375 5.609375 36.375 \r\nQ 5.609375 53.953125 15.125 64.078125 \r\nQ 24.65625 74.21875 41.21875 74.21875 \r\nQ 47.75 74.21875 53.53125 72.484375 \r\nQ 59.328125 70.75 64.40625 67.28125 \r\nz\r\n\" id=\"DejaVuSans-67\"/>\r\n        <path d=\"M 44.390625 34.1875 \r\nQ 47.5625 33.109375 50.5625 29.59375 \r\nQ 53.5625 26.078125 56.59375 19.921875 \r\nL 66.609375 0 \r\nL 56 0 \r\nL 46.6875 18.703125 \r\nQ 43.0625 26.03125 39.671875 28.421875 \r\nQ 36.28125 30.8125 30.421875 30.8125 \r\nL 19.671875 30.8125 \r\nL 19.671875 0 \r\nL 9.8125 0 \r\nL 9.8125 72.90625 \r\nL 32.078125 72.90625 \r\nQ 44.578125 72.90625 50.734375 67.671875 \r\nQ 56.890625 62.453125 56.890625 51.90625 \r\nQ 56.890625 45.015625 53.6875 40.46875 \r\nQ 50.484375 35.9375 44.390625 34.1875 \r\nz\r\nM 19.671875 64.796875 \r\nL 19.671875 38.921875 \r\nL 32.078125 38.921875 \r\nQ 39.203125 38.921875 42.84375 42.21875 \r\nQ 46.484375 45.515625 46.484375 51.90625 \r\nQ 46.484375 58.296875 42.84375 61.546875 \r\nQ 39.203125 64.796875 32.078125 64.796875 \r\nz\r\n\" id=\"DejaVuSans-82\"/>\r\n        <path d=\"M 9.8125 72.90625 \r\nL 19.671875 72.90625 \r\nL 19.671875 0 \r\nL 9.8125 0 \r\nz\r\n\" id=\"DejaVuSans-73\"/>\r\n        <path d=\"M 9.8125 72.90625 \r\nL 24.515625 72.90625 \r\nL 43.109375 23.296875 \r\nL 61.8125 72.90625 \r\nL 76.515625 72.90625 \r\nL 76.515625 0 \r\nL 66.890625 0 \r\nL 66.890625 64.015625 \r\nL 48.09375 14.015625 \r\nL 38.1875 14.015625 \r\nL 19.390625 64.015625 \r\nL 19.390625 0 \r\nL 9.8125 0 \r\nz\r\n\" id=\"DejaVuSans-77\"/>\r\n       </defs>\r\n       <use xlink:href=\"#DejaVuSans-67\"/>\r\n       <use x=\"69.824219\" xlink:href=\"#DejaVuSans-82\"/>\r\n       <use x=\"139.306641\" xlink:href=\"#DejaVuSans-73\"/>\r\n       <use x=\"168.798828\" xlink:href=\"#DejaVuSans-77\"/>\r\n      </g>\r\n     </g>\r\n    </g>\r\n    <g id=\"xtick_2\">\r\n     <g id=\"line2d_2\">\r\n      <g>\r\n       <use style=\"stroke:#000000;stroke-width:0.8;\" x=\"86.785865\" xlink:href=\"#m88fc882edb\" y=\"228.439219\"/>\r\n      </g>\r\n     </g>\r\n     <g id=\"text_2\">\r\n      <!-- ZN -->\r\n      <g transform=\"translate(89.54524 249.770469)rotate(-90)scale(0.1 -0.1)\">\r\n       <defs>\r\n        <path d=\"M 5.609375 72.90625 \r\nL 62.890625 72.90625 \r\nL 62.890625 65.375 \r\nL 16.796875 8.296875 \r\nL 64.015625 8.296875 \r\nL 64.015625 0 \r\nL 4.5 0 \r\nL 4.5 7.515625 \r\nL 50.59375 64.59375 \r\nL 5.609375 64.59375 \r\nz\r\n\" id=\"DejaVuSans-90\"/>\r\n        <path d=\"M 9.8125 72.90625 \r\nL 23.09375 72.90625 \r\nL 55.421875 11.921875 \r\nL 55.421875 72.90625 \r\nL 64.984375 72.90625 \r\nL 64.984375 0 \r\nL 51.703125 0 \r\nL 19.390625 60.984375 \r\nL 19.390625 0 \r\nL 9.8125 0 \r\nz\r\n\" id=\"DejaVuSans-78\"/>\r\n       </defs>\r\n       <use xlink:href=\"#DejaVuSans-90\"/>\r\n       <use x=\"68.505859\" xlink:href=\"#DejaVuSans-78\"/>\r\n      </g>\r\n     </g>\r\n    </g>\r\n    <g id=\"xtick_3\">\r\n     <g id=\"line2d_3\">\r\n      <g>\r\n       <use style=\"stroke:#000000;stroke-width:0.8;\" x=\"107.388942\" xlink:href=\"#m88fc882edb\" y=\"228.439219\"/>\r\n      </g>\r\n     </g>\r\n     <g id=\"text_3\">\r\n      <!-- INDUS -->\r\n      <g transform=\"translate(110.148317 267.237656)rotate(-90)scale(0.1 -0.1)\">\r\n       <defs>\r\n        <path d=\"M 19.671875 64.796875 \r\nL 19.671875 8.109375 \r\nL 31.59375 8.109375 \r\nQ 46.6875 8.109375 53.6875 14.9375 \r\nQ 60.6875 21.78125 60.6875 36.53125 \r\nQ 60.6875 51.171875 53.6875 57.984375 \r\nQ 46.6875 64.796875 31.59375 64.796875 \r\nz\r\nM 9.8125 72.90625 \r\nL 30.078125 72.90625 \r\nQ 51.265625 72.90625 61.171875 64.09375 \r\nQ 71.09375 55.28125 71.09375 36.53125 \r\nQ 71.09375 17.671875 61.125 8.828125 \r\nQ 51.171875 0 30.078125 0 \r\nL 9.8125 0 \r\nz\r\n\" id=\"DejaVuSans-68\"/>\r\n        <path d=\"M 8.6875 72.90625 \r\nL 18.609375 72.90625 \r\nL 18.609375 28.609375 \r\nQ 18.609375 16.890625 22.84375 11.734375 \r\nQ 27.09375 6.59375 36.625 6.59375 \r\nQ 46.09375 6.59375 50.34375 11.734375 \r\nQ 54.59375 16.890625 54.59375 28.609375 \r\nL 54.59375 72.90625 \r\nL 64.5 72.90625 \r\nL 64.5 27.390625 \r\nQ 64.5 13.140625 57.4375 5.859375 \r\nQ 50.390625 -1.421875 36.625 -1.421875 \r\nQ 22.796875 -1.421875 15.734375 5.859375 \r\nQ 8.6875 13.140625 8.6875 27.390625 \r\nz\r\n\" id=\"DejaVuSans-85\"/>\r\n        <path d=\"M 53.515625 70.515625 \r\nL 53.515625 60.890625 \r\nQ 47.90625 63.578125 42.921875 64.890625 \r\nQ 37.9375 66.21875 33.296875 66.21875 \r\nQ 25.25 66.21875 20.875 63.09375 \r\nQ 16.5 59.96875 16.5 54.203125 \r\nQ 16.5 49.359375 19.40625 46.890625 \r\nQ 22.3125 44.4375 30.421875 42.921875 \r\nL 36.375 41.703125 \r\nQ 47.40625 39.59375 52.65625 34.296875 \r\nQ 57.90625 29 57.90625 20.125 \r\nQ 57.90625 9.515625 50.796875 4.046875 \r\nQ 43.703125 -1.421875 29.984375 -1.421875 \r\nQ 24.8125 -1.421875 18.96875 -0.25 \r\nQ 13.140625 0.921875 6.890625 3.21875 \r\nL 6.890625 13.375 \r\nQ 12.890625 10.015625 18.65625 8.296875 \r\nQ 24.421875 6.59375 29.984375 6.59375 \r\nQ 38.421875 6.59375 43.015625 9.90625 \r\nQ 47.609375 13.234375 47.609375 19.390625 \r\nQ 47.609375 24.75 44.3125 27.78125 \r\nQ 41.015625 30.8125 33.5 32.328125 \r\nL 27.484375 33.5 \r\nQ 16.453125 35.6875 11.515625 40.375 \r\nQ 6.59375 45.0625 6.59375 53.421875 \r\nQ 6.59375 63.09375 13.40625 68.65625 \r\nQ 20.21875 74.21875 32.171875 74.21875 \r\nQ 37.3125 74.21875 42.625 73.28125 \r\nQ 47.953125 72.359375 53.515625 70.515625 \r\nz\r\n\" id=\"DejaVuSans-83\"/>\r\n       </defs>\r\n       <use xlink:href=\"#DejaVuSans-73\"/>\r\n       <use x=\"29.492188\" xlink:href=\"#DejaVuSans-78\"/>\r\n       <use x=\"104.296875\" xlink:href=\"#DejaVuSans-68\"/>\r\n       <use x=\"181.298828\" xlink:href=\"#DejaVuSans-85\"/>\r\n       <use x=\"254.492188\" xlink:href=\"#DejaVuSans-83\"/>\r\n      </g>\r\n     </g>\r\n    </g>\r\n    <g id=\"xtick_4\">\r\n     <g id=\"line2d_4\">\r\n      <g>\r\n       <use style=\"stroke:#000000;stroke-width:0.8;\" x=\"127.992019\" xlink:href=\"#m88fc882edb\" y=\"228.439219\"/>\r\n      </g>\r\n     </g>\r\n     <g id=\"text_4\">\r\n      <!-- CHAS -->\r\n      <g transform=\"translate(130.751394 263.131406)rotate(-90)scale(0.1 -0.1)\">\r\n       <defs>\r\n        <path d=\"M 9.8125 72.90625 \r\nL 19.671875 72.90625 \r\nL 19.671875 43.015625 \r\nL 55.515625 43.015625 \r\nL 55.515625 72.90625 \r\nL 65.375 72.90625 \r\nL 65.375 0 \r\nL 55.515625 0 \r\nL 55.515625 34.71875 \r\nL 19.671875 34.71875 \r\nL 19.671875 0 \r\nL 9.8125 0 \r\nz\r\n\" id=\"DejaVuSans-72\"/>\r\n        <path d=\"M 34.1875 63.1875 \r\nL 20.796875 26.90625 \r\nL 47.609375 26.90625 \r\nz\r\nM 28.609375 72.90625 \r\nL 39.796875 72.90625 \r\nL 67.578125 0 \r\nL 57.328125 0 \r\nL 50.6875 18.703125 \r\nL 17.828125 18.703125 \r\nL 11.1875 0 \r\nL 0.78125 0 \r\nz\r\n\" id=\"DejaVuSans-65\"/>\r\n       </defs>\r\n       <use xlink:href=\"#DejaVuSans-67\"/>\r\n       <use x=\"69.824219\" xlink:href=\"#DejaVuSans-72\"/>\r\n       <use x=\"145.019531\" xlink:href=\"#DejaVuSans-65\"/>\r\n       <use x=\"213.427734\" xlink:href=\"#DejaVuSans-83\"/>\r\n      </g>\r\n     </g>\r\n    </g>\r\n    <g id=\"xtick_5\">\r\n     <g id=\"line2d_5\">\r\n      <g>\r\n       <use style=\"stroke:#000000;stroke-width:0.8;\" x=\"148.595096\" xlink:href=\"#m88fc882edb\" y=\"228.439219\"/>\r\n      </g>\r\n     </g>\r\n     <g id=\"text_5\">\r\n      <!-- NOX -->\r\n      <g transform=\"translate(151.354471 257.004844)rotate(-90)scale(0.1 -0.1)\">\r\n       <defs>\r\n        <path d=\"M 39.40625 66.21875 \r\nQ 28.65625 66.21875 22.328125 58.203125 \r\nQ 16.015625 50.203125 16.015625 36.375 \r\nQ 16.015625 22.609375 22.328125 14.59375 \r\nQ 28.65625 6.59375 39.40625 6.59375 \r\nQ 50.140625 6.59375 56.421875 14.59375 \r\nQ 62.703125 22.609375 62.703125 36.375 \r\nQ 62.703125 50.203125 56.421875 58.203125 \r\nQ 50.140625 66.21875 39.40625 66.21875 \r\nz\r\nM 39.40625 74.21875 \r\nQ 54.734375 74.21875 63.90625 63.9375 \r\nQ 73.09375 53.65625 73.09375 36.375 \r\nQ 73.09375 19.140625 63.90625 8.859375 \r\nQ 54.734375 -1.421875 39.40625 -1.421875 \r\nQ 24.03125 -1.421875 14.8125 8.828125 \r\nQ 5.609375 19.09375 5.609375 36.375 \r\nQ 5.609375 53.65625 14.8125 63.9375 \r\nQ 24.03125 74.21875 39.40625 74.21875 \r\nz\r\n\" id=\"DejaVuSans-79\"/>\r\n        <path d=\"M 6.296875 72.90625 \r\nL 16.890625 72.90625 \r\nL 35.015625 45.796875 \r\nL 53.21875 72.90625 \r\nL 63.8125 72.90625 \r\nL 40.375 37.890625 \r\nL 65.375 0 \r\nL 54.78125 0 \r\nL 34.28125 31 \r\nL 13.625 0 \r\nL 2.984375 0 \r\nL 29 38.921875 \r\nz\r\n\" id=\"DejaVuSans-88\"/>\r\n       </defs>\r\n       <use xlink:href=\"#DejaVuSans-78\"/>\r\n       <use x=\"74.804688\" xlink:href=\"#DejaVuSans-79\"/>\r\n       <use x=\"147.140625\" xlink:href=\"#DejaVuSans-88\"/>\r\n      </g>\r\n     </g>\r\n    </g>\r\n    <g id=\"xtick_6\">\r\n     <g id=\"line2d_6\">\r\n      <g>\r\n       <use style=\"stroke:#000000;stroke-width:0.8;\" x=\"169.198173\" xlink:href=\"#m88fc882edb\" y=\"228.439219\"/>\r\n      </g>\r\n     </g>\r\n     <g id=\"text_6\">\r\n      <!-- RM -->\r\n      <g transform=\"translate(171.957548 251.015781)rotate(-90)scale(0.1 -0.1)\">\r\n       <use xlink:href=\"#DejaVuSans-82\"/>\r\n       <use x=\"69.482422\" xlink:href=\"#DejaVuSans-77\"/>\r\n      </g>\r\n     </g>\r\n    </g>\r\n    <g id=\"xtick_7\">\r\n     <g id=\"line2d_7\">\r\n      <g>\r\n       <use style=\"stroke:#000000;stroke-width:0.8;\" x=\"189.80125\" xlink:href=\"#m88fc882edb\" y=\"228.439219\"/>\r\n      </g>\r\n     </g>\r\n     <g id=\"text_7\">\r\n      <!-- AGE -->\r\n      <g transform=\"translate(192.560625 256.172031)rotate(-90)scale(0.1 -0.1)\">\r\n       <defs>\r\n        <path d=\"M 59.515625 10.40625 \r\nL 59.515625 29.984375 \r\nL 43.40625 29.984375 \r\nL 43.40625 38.09375 \r\nL 69.28125 38.09375 \r\nL 69.28125 6.78125 \r\nQ 63.578125 2.734375 56.6875 0.65625 \r\nQ 49.8125 -1.421875 42 -1.421875 \r\nQ 24.90625 -1.421875 15.25 8.5625 \r\nQ 5.609375 18.5625 5.609375 36.375 \r\nQ 5.609375 54.25 15.25 64.234375 \r\nQ 24.90625 74.21875 42 74.21875 \r\nQ 49.125 74.21875 55.546875 72.453125 \r\nQ 61.96875 70.703125 67.390625 67.28125 \r\nL 67.390625 56.78125 \r\nQ 61.921875 61.421875 55.765625 63.765625 \r\nQ 49.609375 66.109375 42.828125 66.109375 \r\nQ 29.4375 66.109375 22.71875 58.640625 \r\nQ 16.015625 51.171875 16.015625 36.375 \r\nQ 16.015625 21.625 22.71875 14.15625 \r\nQ 29.4375 6.6875 42.828125 6.6875 \r\nQ 48.046875 6.6875 52.140625 7.59375 \r\nQ 56.25 8.5 59.515625 10.40625 \r\nz\r\n\" id=\"DejaVuSans-71\"/>\r\n        <path d=\"M 9.8125 72.90625 \r\nL 55.90625 72.90625 \r\nL 55.90625 64.59375 \r\nL 19.671875 64.59375 \r\nL 19.671875 43.015625 \r\nL 54.390625 43.015625 \r\nL 54.390625 34.71875 \r\nL 19.671875 34.71875 \r\nL 19.671875 8.296875 \r\nL 56.78125 8.296875 \r\nL 56.78125 0 \r\nL 9.8125 0 \r\nz\r\n\" id=\"DejaVuSans-69\"/>\r\n       </defs>\r\n       <use xlink:href=\"#DejaVuSans-65\"/>\r\n       <use x=\"66.658203\" xlink:href=\"#DejaVuSans-71\"/>\r\n       <use x=\"144.148438\" xlink:href=\"#DejaVuSans-69\"/>\r\n      </g>\r\n     </g>\r\n    </g>\r\n    <g id=\"xtick_8\">\r\n     <g id=\"line2d_8\">\r\n      <g>\r\n       <use style=\"stroke:#000000;stroke-width:0.8;\" x=\"210.404327\" xlink:href=\"#m88fc882edb\" y=\"228.439219\"/>\r\n      </g>\r\n     </g>\r\n     <g id=\"text_8\">\r\n      <!-- DIS -->\r\n      <g transform=\"translate(213.163702 252.437656)rotate(-90)scale(0.1 -0.1)\">\r\n       <use xlink:href=\"#DejaVuSans-68\"/>\r\n       <use x=\"77.001953\" xlink:href=\"#DejaVuSans-73\"/>\r\n       <use x=\"106.494141\" xlink:href=\"#DejaVuSans-83\"/>\r\n      </g>\r\n     </g>\r\n    </g>\r\n    <g id=\"xtick_9\">\r\n     <g id=\"line2d_9\">\r\n      <g>\r\n       <use style=\"stroke:#000000;stroke-width:0.8;\" x=\"231.007404\" xlink:href=\"#m88fc882edb\" y=\"228.439219\"/>\r\n      </g>\r\n     </g>\r\n     <g id=\"text_9\">\r\n      <!-- RAD -->\r\n      <g transform=\"translate(233.766779 256.528281)rotate(-90)scale(0.1 -0.1)\">\r\n       <use xlink:href=\"#DejaVuSans-82\"/>\r\n       <use x=\"65.482422\" xlink:href=\"#DejaVuSans-65\"/>\r\n       <use x=\"133.890625\" xlink:href=\"#DejaVuSans-68\"/>\r\n      </g>\r\n     </g>\r\n    </g>\r\n    <g id=\"xtick_10\">\r\n     <g id=\"line2d_10\">\r\n      <g>\r\n       <use style=\"stroke:#000000;stroke-width:0.8;\" x=\"251.610481\" xlink:href=\"#m88fc882edb\" y=\"228.439219\"/>\r\n      </g>\r\n     </g>\r\n     <g id=\"text_10\">\r\n      <!-- TAX -->\r\n      <g transform=\"translate(254.369856 254.462656)rotate(-90)scale(0.1 -0.1)\">\r\n       <defs>\r\n        <path d=\"M -0.296875 72.90625 \r\nL 61.375 72.90625 \r\nL 61.375 64.59375 \r\nL 35.5 64.59375 \r\nL 35.5 0 \r\nL 25.59375 0 \r\nL 25.59375 64.59375 \r\nL -0.296875 64.59375 \r\nz\r\n\" id=\"DejaVuSans-84\"/>\r\n       </defs>\r\n       <use xlink:href=\"#DejaVuSans-84\"/>\r\n       <use x=\"53.333984\" xlink:href=\"#DejaVuSans-65\"/>\r\n       <use x=\"121.742188\" xlink:href=\"#DejaVuSans-88\"/>\r\n      </g>\r\n     </g>\r\n    </g>\r\n    <g id=\"xtick_11\">\r\n     <g id=\"line2d_11\">\r\n      <g>\r\n       <use style=\"stroke:#000000;stroke-width:0.8;\" x=\"272.213558\" xlink:href=\"#m88fc882edb\" y=\"228.439219\"/>\r\n      </g>\r\n     </g>\r\n     <g id=\"text_11\">\r\n      <!-- PTRATIO -->\r\n      <g transform=\"translate(274.972933 277.120469)rotate(-90)scale(0.1 -0.1)\">\r\n       <defs>\r\n        <path d=\"M 19.671875 64.796875 \r\nL 19.671875 37.40625 \r\nL 32.078125 37.40625 \r\nQ 38.96875 37.40625 42.71875 40.96875 \r\nQ 46.484375 44.53125 46.484375 51.125 \r\nQ 46.484375 57.671875 42.71875 61.234375 \r\nQ 38.96875 64.796875 32.078125 64.796875 \r\nz\r\nM 9.8125 72.90625 \r\nL 32.078125 72.90625 \r\nQ 44.34375 72.90625 50.609375 67.359375 \r\nQ 56.890625 61.8125 56.890625 51.125 \r\nQ 56.890625 40.328125 50.609375 34.8125 \r\nQ 44.34375 29.296875 32.078125 29.296875 \r\nL 19.671875 29.296875 \r\nL 19.671875 0 \r\nL 9.8125 0 \r\nz\r\n\" id=\"DejaVuSans-80\"/>\r\n       </defs>\r\n       <use xlink:href=\"#DejaVuSans-80\"/>\r\n       <use x=\"60.302734\" xlink:href=\"#DejaVuSans-84\"/>\r\n       <use x=\"121.386719\" xlink:href=\"#DejaVuSans-82\"/>\r\n       <use x=\"186.869141\" xlink:href=\"#DejaVuSans-65\"/>\r\n       <use x=\"247.527344\" xlink:href=\"#DejaVuSans-84\"/>\r\n       <use x=\"308.611328\" xlink:href=\"#DejaVuSans-73\"/>\r\n       <use x=\"338.103516\" xlink:href=\"#DejaVuSans-79\"/>\r\n      </g>\r\n     </g>\r\n    </g>\r\n    <g id=\"xtick_12\">\r\n     <g id=\"line2d_12\">\r\n      <g>\r\n       <use style=\"stroke:#000000;stroke-width:0.8;\" x=\"292.816635\" xlink:href=\"#m88fc882edb\" y=\"228.439219\"/>\r\n      </g>\r\n     </g>\r\n     <g id=\"text_12\">\r\n      <!-- B -->\r\n      <g transform=\"translate(295.57601 242.300156)rotate(-90)scale(0.1 -0.1)\">\r\n       <defs>\r\n        <path d=\"M 19.671875 34.8125 \r\nL 19.671875 8.109375 \r\nL 35.5 8.109375 \r\nQ 43.453125 8.109375 47.28125 11.40625 \r\nQ 51.125 14.703125 51.125 21.484375 \r\nQ 51.125 28.328125 47.28125 31.5625 \r\nQ 43.453125 34.8125 35.5 34.8125 \r\nz\r\nM 19.671875 64.796875 \r\nL 19.671875 42.828125 \r\nL 34.28125 42.828125 \r\nQ 41.5 42.828125 45.03125 45.53125 \r\nQ 48.578125 48.25 48.578125 53.8125 \r\nQ 48.578125 59.328125 45.03125 62.0625 \r\nQ 41.5 64.796875 34.28125 64.796875 \r\nz\r\nM 9.8125 72.90625 \r\nL 35.015625 72.90625 \r\nQ 46.296875 72.90625 52.390625 68.21875 \r\nQ 58.5 63.53125 58.5 54.890625 \r\nQ 58.5 48.1875 55.375 44.234375 \r\nQ 52.25 40.28125 46.1875 39.3125 \r\nQ 53.46875 37.75 57.5 32.78125 \r\nQ 61.53125 27.828125 61.53125 20.40625 \r\nQ 61.53125 10.640625 54.890625 5.3125 \r\nQ 48.25 0 35.984375 0 \r\nL 9.8125 0 \r\nz\r\n\" id=\"DejaVuSans-66\"/>\r\n       </defs>\r\n       <use xlink:href=\"#DejaVuSans-66\"/>\r\n      </g>\r\n     </g>\r\n    </g>\r\n    <g id=\"xtick_13\">\r\n     <g id=\"line2d_13\">\r\n      <g>\r\n       <use style=\"stroke:#000000;stroke-width:0.8;\" x=\"313.419712\" xlink:href=\"#m88fc882edb\" y=\"228.439219\"/>\r\n      </g>\r\n     </g>\r\n     <g id=\"text_13\">\r\n      <!-- LSTAT -->\r\n      <g transform=\"translate(316.179087 264.865781)rotate(-90)scale(0.1 -0.1)\">\r\n       <defs>\r\n        <path d=\"M 9.8125 72.90625 \r\nL 19.671875 72.90625 \r\nL 19.671875 8.296875 \r\nL 55.171875 8.296875 \r\nL 55.171875 0 \r\nL 9.8125 0 \r\nz\r\n\" id=\"DejaVuSans-76\"/>\r\n       </defs>\r\n       <use xlink:href=\"#DejaVuSans-76\"/>\r\n       <use x=\"55.712891\" xlink:href=\"#DejaVuSans-83\"/>\r\n       <use x=\"119.189453\" xlink:href=\"#DejaVuSans-84\"/>\r\n       <use x=\"172.523438\" xlink:href=\"#DejaVuSans-65\"/>\r\n       <use x=\"233.181641\" xlink:href=\"#DejaVuSans-84\"/>\r\n      </g>\r\n     </g>\r\n    </g>\r\n   </g>\r\n   <g id=\"matplotlib.axis_2\">\r\n    <g id=\"ytick_1\">\r\n     <g id=\"line2d_14\">\r\n      <defs>\r\n       <path d=\"M 0 0 \r\nL -3.5 0 \r\n\" id=\"m4e34a30b7f\" style=\"stroke:#000000;stroke-width:0.8;\"/>\r\n      </defs>\r\n      <g>\r\n       <use style=\"stroke:#000000;stroke-width:0.8;\" x=\"55.88125\" xlink:href=\"#m4e34a30b7f\" y=\"19.362296\"/>\r\n      </g>\r\n     </g>\r\n     <g id=\"text_14\">\r\n      <!-- CRIM -->\r\n      <g transform=\"translate(23.371875 23.161514)scale(0.1 -0.1)\">\r\n       <use xlink:href=\"#DejaVuSans-67\"/>\r\n       <use x=\"69.824219\" xlink:href=\"#DejaVuSans-82\"/>\r\n       <use x=\"139.306641\" xlink:href=\"#DejaVuSans-73\"/>\r\n       <use x=\"168.798828\" xlink:href=\"#DejaVuSans-77\"/>\r\n      </g>\r\n     </g>\r\n    </g>\r\n    <g id=\"ytick_2\">\r\n     <g id=\"line2d_15\">\r\n      <g>\r\n       <use style=\"stroke:#000000;stroke-width:0.8;\" x=\"55.88125\" xlink:href=\"#m4e34a30b7f\" y=\"36.08845\"/>\r\n      </g>\r\n     </g>\r\n     <g id=\"text_15\">\r\n      <!-- ZN -->\r\n      <g transform=\"translate(34.55 39.887668)scale(0.1 -0.1)\">\r\n       <use xlink:href=\"#DejaVuSans-90\"/>\r\n       <use x=\"68.505859\" xlink:href=\"#DejaVuSans-78\"/>\r\n      </g>\r\n     </g>\r\n    </g>\r\n    <g id=\"ytick_3\">\r\n     <g id=\"line2d_16\">\r\n      <g>\r\n       <use style=\"stroke:#000000;stroke-width:0.8;\" x=\"55.88125\" xlink:href=\"#m4e34a30b7f\" y=\"52.814603\"/>\r\n      </g>\r\n     </g>\r\n     <g id=\"text_16\">\r\n      <!-- INDUS -->\r\n      <g transform=\"translate(17.082813 56.613822)scale(0.1 -0.1)\">\r\n       <use xlink:href=\"#DejaVuSans-73\"/>\r\n       <use x=\"29.492188\" xlink:href=\"#DejaVuSans-78\"/>\r\n       <use x=\"104.296875\" xlink:href=\"#DejaVuSans-68\"/>\r\n       <use x=\"181.298828\" xlink:href=\"#DejaVuSans-85\"/>\r\n       <use x=\"254.492188\" xlink:href=\"#DejaVuSans-83\"/>\r\n      </g>\r\n     </g>\r\n    </g>\r\n    <g id=\"ytick_4\">\r\n     <g id=\"line2d_17\">\r\n      <g>\r\n       <use style=\"stroke:#000000;stroke-width:0.8;\" x=\"55.88125\" xlink:href=\"#m4e34a30b7f\" y=\"69.540757\"/>\r\n      </g>\r\n     </g>\r\n     <g id=\"text_17\">\r\n      <!-- CHAS -->\r\n      <g transform=\"translate(21.189063 73.339976)scale(0.1 -0.1)\">\r\n       <use xlink:href=\"#DejaVuSans-67\"/>\r\n       <use x=\"69.824219\" xlink:href=\"#DejaVuSans-72\"/>\r\n       <use x=\"145.019531\" xlink:href=\"#DejaVuSans-65\"/>\r\n       <use x=\"213.427734\" xlink:href=\"#DejaVuSans-83\"/>\r\n      </g>\r\n     </g>\r\n    </g>\r\n    <g id=\"ytick_5\">\r\n     <g id=\"line2d_18\">\r\n      <g>\r\n       <use style=\"stroke:#000000;stroke-width:0.8;\" x=\"55.88125\" xlink:href=\"#m4e34a30b7f\" y=\"86.266911\"/>\r\n      </g>\r\n     </g>\r\n     <g id=\"text_18\">\r\n      <!-- NOX -->\r\n      <g transform=\"translate(27.315625 90.06613)scale(0.1 -0.1)\">\r\n       <use xlink:href=\"#DejaVuSans-78\"/>\r\n       <use x=\"74.804688\" xlink:href=\"#DejaVuSans-79\"/>\r\n       <use x=\"147.140625\" xlink:href=\"#DejaVuSans-88\"/>\r\n      </g>\r\n     </g>\r\n    </g>\r\n    <g id=\"ytick_6\">\r\n     <g id=\"line2d_19\">\r\n      <g>\r\n       <use style=\"stroke:#000000;stroke-width:0.8;\" x=\"55.88125\" xlink:href=\"#m4e34a30b7f\" y=\"102.993065\"/>\r\n      </g>\r\n     </g>\r\n     <g id=\"text_19\">\r\n      <!-- RM -->\r\n      <g transform=\"translate(33.304688 106.792284)scale(0.1 -0.1)\">\r\n       <use xlink:href=\"#DejaVuSans-82\"/>\r\n       <use x=\"69.482422\" xlink:href=\"#DejaVuSans-77\"/>\r\n      </g>\r\n     </g>\r\n    </g>\r\n    <g id=\"ytick_7\">\r\n     <g id=\"line2d_20\">\r\n      <g>\r\n       <use style=\"stroke:#000000;stroke-width:0.8;\" x=\"55.88125\" xlink:href=\"#m4e34a30b7f\" y=\"119.719219\"/>\r\n      </g>\r\n     </g>\r\n     <g id=\"text_20\">\r\n      <!-- AGE -->\r\n      <g transform=\"translate(28.148438 123.518438)scale(0.1 -0.1)\">\r\n       <use xlink:href=\"#DejaVuSans-65\"/>\r\n       <use x=\"66.658203\" xlink:href=\"#DejaVuSans-71\"/>\r\n       <use x=\"144.148438\" xlink:href=\"#DejaVuSans-69\"/>\r\n      </g>\r\n     </g>\r\n    </g>\r\n    <g id=\"ytick_8\">\r\n     <g id=\"line2d_21\">\r\n      <g>\r\n       <use style=\"stroke:#000000;stroke-width:0.8;\" x=\"55.88125\" xlink:href=\"#m4e34a30b7f\" y=\"136.445373\"/>\r\n      </g>\r\n     </g>\r\n     <g id=\"text_21\">\r\n      <!-- DIS -->\r\n      <g transform=\"translate(31.882813 140.244591)scale(0.1 -0.1)\">\r\n       <use xlink:href=\"#DejaVuSans-68\"/>\r\n       <use x=\"77.001953\" xlink:href=\"#DejaVuSans-73\"/>\r\n       <use x=\"106.494141\" xlink:href=\"#DejaVuSans-83\"/>\r\n      </g>\r\n     </g>\r\n    </g>\r\n    <g id=\"ytick_9\">\r\n     <g id=\"line2d_22\">\r\n      <g>\r\n       <use style=\"stroke:#000000;stroke-width:0.8;\" x=\"55.88125\" xlink:href=\"#m4e34a30b7f\" y=\"153.171526\"/>\r\n      </g>\r\n     </g>\r\n     <g id=\"text_22\">\r\n      <!-- RAD -->\r\n      <g transform=\"translate(27.792188 156.970745)scale(0.1 -0.1)\">\r\n       <use xlink:href=\"#DejaVuSans-82\"/>\r\n       <use x=\"65.482422\" xlink:href=\"#DejaVuSans-65\"/>\r\n       <use x=\"133.890625\" xlink:href=\"#DejaVuSans-68\"/>\r\n      </g>\r\n     </g>\r\n    </g>\r\n    <g id=\"ytick_10\">\r\n     <g id=\"line2d_23\">\r\n      <g>\r\n       <use style=\"stroke:#000000;stroke-width:0.8;\" x=\"55.88125\" xlink:href=\"#m4e34a30b7f\" y=\"169.89768\"/>\r\n      </g>\r\n     </g>\r\n     <g id=\"text_23\">\r\n      <!-- TAX -->\r\n      <g transform=\"translate(29.857813 173.696899)scale(0.1 -0.1)\">\r\n       <use xlink:href=\"#DejaVuSans-84\"/>\r\n       <use x=\"53.333984\" xlink:href=\"#DejaVuSans-65\"/>\r\n       <use x=\"121.742188\" xlink:href=\"#DejaVuSans-88\"/>\r\n      </g>\r\n     </g>\r\n    </g>\r\n    <g id=\"ytick_11\">\r\n     <g id=\"line2d_24\">\r\n      <g>\r\n       <use style=\"stroke:#000000;stroke-width:0.8;\" x=\"55.88125\" xlink:href=\"#m4e34a30b7f\" y=\"186.623834\"/>\r\n      </g>\r\n     </g>\r\n     <g id=\"text_24\">\r\n      <!-- PTRATIO -->\r\n      <g transform=\"translate(7.2 190.423053)scale(0.1 -0.1)\">\r\n       <use xlink:href=\"#DejaVuSans-80\"/>\r\n       <use x=\"60.302734\" xlink:href=\"#DejaVuSans-84\"/>\r\n       <use x=\"121.386719\" xlink:href=\"#DejaVuSans-82\"/>\r\n       <use x=\"186.869141\" xlink:href=\"#DejaVuSans-65\"/>\r\n       <use x=\"247.527344\" xlink:href=\"#DejaVuSans-84\"/>\r\n       <use x=\"308.611328\" xlink:href=\"#DejaVuSans-73\"/>\r\n       <use x=\"338.103516\" xlink:href=\"#DejaVuSans-79\"/>\r\n      </g>\r\n     </g>\r\n    </g>\r\n    <g id=\"ytick_12\">\r\n     <g id=\"line2d_25\">\r\n      <g>\r\n       <use style=\"stroke:#000000;stroke-width:0.8;\" x=\"55.88125\" xlink:href=\"#m4e34a30b7f\" y=\"203.349988\"/>\r\n      </g>\r\n     </g>\r\n     <g id=\"text_25\">\r\n      <!-- B -->\r\n      <g transform=\"translate(42.020313 207.149207)scale(0.1 -0.1)\">\r\n       <use xlink:href=\"#DejaVuSans-66\"/>\r\n      </g>\r\n     </g>\r\n    </g>\r\n    <g id=\"ytick_13\">\r\n     <g id=\"line2d_26\">\r\n      <g>\r\n       <use style=\"stroke:#000000;stroke-width:0.8;\" x=\"55.88125\" xlink:href=\"#m4e34a30b7f\" y=\"220.076142\"/>\r\n      </g>\r\n     </g>\r\n     <g id=\"text_26\">\r\n      <!-- LSTAT -->\r\n      <g transform=\"translate(19.454688 223.875361)scale(0.1 -0.1)\">\r\n       <use xlink:href=\"#DejaVuSans-76\"/>\r\n       <use x=\"55.712891\" xlink:href=\"#DejaVuSans-83\"/>\r\n       <use x=\"119.189453\" xlink:href=\"#DejaVuSans-84\"/>\r\n       <use x=\"172.523438\" xlink:href=\"#DejaVuSans-65\"/>\r\n       <use x=\"233.181641\" xlink:href=\"#DejaVuSans-84\"/>\r\n      </g>\r\n     </g>\r\n    </g>\r\n   </g>\r\n  </g>\r\n  <g id=\"axes_2\">\r\n   <g id=\"patch_3\">\r\n    <path clip-path=\"url(#p182f12eba9)\" d=\"M 340.46125 228.439219 \r\nL 340.46125 227.589844 \r\nL 340.46125 11.848594 \r\nL 340.46125 10.999219 \r\nL 351.33325 10.999219 \r\nL 351.33325 11.848594 \r\nL 351.33325 227.589844 \r\nL 351.33325 228.439219 \r\nz\r\n\" style=\"fill:#ffffff;stroke:#ffffff;stroke-linejoin:miter;stroke-width:0.01;\"/>\r\n   </g>\r\n   <image height=\"217\" id=\"image68ba306bec\" transform=\"scale(1 -1)translate(0 -217)\" width=\"11\" x=\"340\" xlink:href=\"data:image/png;base64,\r\niVBORw0KGgoAAAANSUhEUgAAAAsAAADZCAYAAAD2WsoCAAABaUlEQVR4nN3WwXHDMBBDUXKpslJDik5TOcgi0wLfATNUfN7BAB8w7f71/bPa5ufq1Xdv29V7wbEoj2ucYKNXSrnEc11iI0ajiEYnzrKNIduwumn8hE6OYwHJRq7BInQ2/jfS2L5FGsQZx799i5yHPblgI7kNsWE0yLPYsG2Asn27STk30ViDZGMYDTi2iVKDpgzH8DMYrTsX0Brc/hd/TMAiz/bIwHFvYCM5JLAx5BgbjA1JOFfJcaxBomEBbUgzZMPq3j4NoxMaORtBzkfUbcqx42oPKFPAFQu4Ug3WEhoxG4ZObGBAahBstFhA4zxjdUvAZsp0nKqbPOfqNuX5ERtCY6Y84zbI8z+n0R4Yf27Pr6RxiOcJyitGY+VoxJTXRwLGSqG6FykLumV1HxHQVifKM/YU5AKu3Phzng9Rjo0/SUP2LHXP530Bj6FxBDryTDQWKcfQWcA7VrdxFuU7pfz8yupuOI4F/AOwDypOSZ/OwAAAAABJRU5ErkJggg==\" y=\"-11\"/>\r\n   <g id=\"matplotlib.axis_3\"/>\r\n   <g id=\"matplotlib.axis_4\">\r\n    <g id=\"ytick_14\">\r\n     <g id=\"line2d_27\">\r\n      <defs>\r\n       <path d=\"M 0 0 \r\nL 3.5 0 \r\n\" id=\"m0eaaa55503\" style=\"stroke:#000000;stroke-width:0.8;\"/>\r\n      </defs>\r\n      <g>\r\n       <use style=\"stroke:#000000;stroke-width:0.8;\" x=\"351.33325\" xlink:href=\"#m0eaaa55503\" y=\"207.640683\"/>\r\n      </g>\r\n     </g>\r\n     <g id=\"text_27\">\r\n      <!-- −0.6 -->\r\n      <g transform=\"translate(358.33325 211.439902)scale(0.1 -0.1)\">\r\n       <defs>\r\n        <path d=\"M 10.59375 35.5 \r\nL 73.1875 35.5 \r\nL 73.1875 27.203125 \r\nL 10.59375 27.203125 \r\nz\r\n\" id=\"DejaVuSans-8722\"/>\r\n        <path d=\"M 31.78125 66.40625 \r\nQ 24.171875 66.40625 20.328125 58.90625 \r\nQ 16.5 51.421875 16.5 36.375 \r\nQ 16.5 21.390625 20.328125 13.890625 \r\nQ 24.171875 6.390625 31.78125 6.390625 \r\nQ 39.453125 6.390625 43.28125 13.890625 \r\nQ 47.125 21.390625 47.125 36.375 \r\nQ 47.125 51.421875 43.28125 58.90625 \r\nQ 39.453125 66.40625 31.78125 66.40625 \r\nz\r\nM 31.78125 74.21875 \r\nQ 44.046875 74.21875 50.515625 64.515625 \r\nQ 56.984375 54.828125 56.984375 36.375 \r\nQ 56.984375 17.96875 50.515625 8.265625 \r\nQ 44.046875 -1.421875 31.78125 -1.421875 \r\nQ 19.53125 -1.421875 13.0625 8.265625 \r\nQ 6.59375 17.96875 6.59375 36.375 \r\nQ 6.59375 54.828125 13.0625 64.515625 \r\nQ 19.53125 74.21875 31.78125 74.21875 \r\nz\r\n\" id=\"DejaVuSans-48\"/>\r\n        <path d=\"M 10.6875 12.40625 \r\nL 21 12.40625 \r\nL 21 0 \r\nL 10.6875 0 \r\nz\r\n\" id=\"DejaVuSans-46\"/>\r\n        <path d=\"M 33.015625 40.375 \r\nQ 26.375 40.375 22.484375 35.828125 \r\nQ 18.609375 31.296875 18.609375 23.390625 \r\nQ 18.609375 15.53125 22.484375 10.953125 \r\nQ 26.375 6.390625 33.015625 6.390625 \r\nQ 39.65625 6.390625 43.53125 10.953125 \r\nQ 47.40625 15.53125 47.40625 23.390625 \r\nQ 47.40625 31.296875 43.53125 35.828125 \r\nQ 39.65625 40.375 33.015625 40.375 \r\nz\r\nM 52.59375 71.296875 \r\nL 52.59375 62.3125 \r\nQ 48.875 64.0625 45.09375 64.984375 \r\nQ 41.3125 65.921875 37.59375 65.921875 \r\nQ 27.828125 65.921875 22.671875 59.328125 \r\nQ 17.53125 52.734375 16.796875 39.40625 \r\nQ 19.671875 43.65625 24.015625 45.921875 \r\nQ 28.375 48.1875 33.59375 48.1875 \r\nQ 44.578125 48.1875 50.953125 41.515625 \r\nQ 57.328125 34.859375 57.328125 23.390625 \r\nQ 57.328125 12.15625 50.6875 5.359375 \r\nQ 44.046875 -1.421875 33.015625 -1.421875 \r\nQ 20.359375 -1.421875 13.671875 8.265625 \r\nQ 6.984375 17.96875 6.984375 36.375 \r\nQ 6.984375 53.65625 15.1875 63.9375 \r\nQ 23.390625 74.21875 37.203125 74.21875 \r\nQ 40.921875 74.21875 44.703125 73.484375 \r\nQ 48.484375 72.75 52.59375 71.296875 \r\nz\r\n\" id=\"DejaVuSans-54\"/>\r\n       </defs>\r\n       <use xlink:href=\"#DejaVuSans-8722\"/>\r\n       <use x=\"83.789062\" xlink:href=\"#DejaVuSans-48\"/>\r\n       <use x=\"147.412109\" xlink:href=\"#DejaVuSans-46\"/>\r\n       <use x=\"179.199219\" xlink:href=\"#DejaVuSans-54\"/>\r\n      </g>\r\n     </g>\r\n    </g>\r\n    <g id=\"ytick_15\">\r\n     <g id=\"line2d_28\">\r\n      <g>\r\n       <use style=\"stroke:#000000;stroke-width:0.8;\" x=\"351.33325\" xlink:href=\"#m0eaaa55503\" y=\"183.0605\"/>\r\n      </g>\r\n     </g>\r\n     <g id=\"text_28\">\r\n      <!-- −0.4 -->\r\n      <g transform=\"translate(358.33325 186.859719)scale(0.1 -0.1)\">\r\n       <defs>\r\n        <path d=\"M 37.796875 64.3125 \r\nL 12.890625 25.390625 \r\nL 37.796875 25.390625 \r\nz\r\nM 35.203125 72.90625 \r\nL 47.609375 72.90625 \r\nL 47.609375 25.390625 \r\nL 58.015625 25.390625 \r\nL 58.015625 17.1875 \r\nL 47.609375 17.1875 \r\nL 47.609375 0 \r\nL 37.796875 0 \r\nL 37.796875 17.1875 \r\nL 4.890625 17.1875 \r\nL 4.890625 26.703125 \r\nz\r\n\" id=\"DejaVuSans-52\"/>\r\n       </defs>\r\n       <use xlink:href=\"#DejaVuSans-8722\"/>\r\n       <use x=\"83.789062\" xlink:href=\"#DejaVuSans-48\"/>\r\n       <use x=\"147.412109\" xlink:href=\"#DejaVuSans-46\"/>\r\n       <use x=\"179.199219\" xlink:href=\"#DejaVuSans-52\"/>\r\n      </g>\r\n     </g>\r\n    </g>\r\n    <g id=\"ytick_16\">\r\n     <g id=\"line2d_29\">\r\n      <g>\r\n       <use style=\"stroke:#000000;stroke-width:0.8;\" x=\"351.33325\" xlink:href=\"#m0eaaa55503\" y=\"158.480317\"/>\r\n      </g>\r\n     </g>\r\n     <g id=\"text_29\">\r\n      <!-- −0.2 -->\r\n      <g transform=\"translate(358.33325 162.279536)scale(0.1 -0.1)\">\r\n       <defs>\r\n        <path d=\"M 19.1875 8.296875 \r\nL 53.609375 8.296875 \r\nL 53.609375 0 \r\nL 7.328125 0 \r\nL 7.328125 8.296875 \r\nQ 12.9375 14.109375 22.625 23.890625 \r\nQ 32.328125 33.6875 34.8125 36.53125 \r\nQ 39.546875 41.84375 41.421875 45.53125 \r\nQ 43.3125 49.21875 43.3125 52.78125 \r\nQ 43.3125 58.59375 39.234375 62.25 \r\nQ 35.15625 65.921875 28.609375 65.921875 \r\nQ 23.96875 65.921875 18.8125 64.3125 \r\nQ 13.671875 62.703125 7.8125 59.421875 \r\nL 7.8125 69.390625 \r\nQ 13.765625 71.78125 18.9375 73 \r\nQ 24.125 74.21875 28.421875 74.21875 \r\nQ 39.75 74.21875 46.484375 68.546875 \r\nQ 53.21875 62.890625 53.21875 53.421875 \r\nQ 53.21875 48.921875 51.53125 44.890625 \r\nQ 49.859375 40.875 45.40625 35.40625 \r\nQ 44.1875 33.984375 37.640625 27.21875 \r\nQ 31.109375 20.453125 19.1875 8.296875 \r\nz\r\n\" id=\"DejaVuSans-50\"/>\r\n       </defs>\r\n       <use xlink:href=\"#DejaVuSans-8722\"/>\r\n       <use x=\"83.789062\" xlink:href=\"#DejaVuSans-48\"/>\r\n       <use x=\"147.412109\" xlink:href=\"#DejaVuSans-46\"/>\r\n       <use x=\"179.199219\" xlink:href=\"#DejaVuSans-50\"/>\r\n      </g>\r\n     </g>\r\n    </g>\r\n    <g id=\"ytick_17\">\r\n     <g id=\"line2d_30\">\r\n      <g>\r\n       <use style=\"stroke:#000000;stroke-width:0.8;\" x=\"351.33325\" xlink:href=\"#m0eaaa55503\" y=\"133.900134\"/>\r\n      </g>\r\n     </g>\r\n     <g id=\"text_30\">\r\n      <!-- 0.0 -->\r\n      <g transform=\"translate(358.33325 137.699353)scale(0.1 -0.1)\">\r\n       <use xlink:href=\"#DejaVuSans-48\"/>\r\n       <use x=\"63.623047\" xlink:href=\"#DejaVuSans-46\"/>\r\n       <use x=\"95.410156\" xlink:href=\"#DejaVuSans-48\"/>\r\n      </g>\r\n     </g>\r\n    </g>\r\n    <g id=\"ytick_18\">\r\n     <g id=\"line2d_31\">\r\n      <g>\r\n       <use style=\"stroke:#000000;stroke-width:0.8;\" x=\"351.33325\" xlink:href=\"#m0eaaa55503\" y=\"109.319951\"/>\r\n      </g>\r\n     </g>\r\n     <g id=\"text_31\">\r\n      <!-- 0.2 -->\r\n      <g transform=\"translate(358.33325 113.11917)scale(0.1 -0.1)\">\r\n       <use xlink:href=\"#DejaVuSans-48\"/>\r\n       <use x=\"63.623047\" xlink:href=\"#DejaVuSans-46\"/>\r\n       <use x=\"95.410156\" xlink:href=\"#DejaVuSans-50\"/>\r\n      </g>\r\n     </g>\r\n    </g>\r\n    <g id=\"ytick_19\">\r\n     <g id=\"line2d_32\">\r\n      <g>\r\n       <use style=\"stroke:#000000;stroke-width:0.8;\" x=\"351.33325\" xlink:href=\"#m0eaaa55503\" y=\"84.739768\"/>\r\n      </g>\r\n     </g>\r\n     <g id=\"text_32\">\r\n      <!-- 0.4 -->\r\n      <g transform=\"translate(358.33325 88.538987)scale(0.1 -0.1)\">\r\n       <use xlink:href=\"#DejaVuSans-48\"/>\r\n       <use x=\"63.623047\" xlink:href=\"#DejaVuSans-46\"/>\r\n       <use x=\"95.410156\" xlink:href=\"#DejaVuSans-52\"/>\r\n      </g>\r\n     </g>\r\n    </g>\r\n    <g id=\"ytick_20\">\r\n     <g id=\"line2d_33\">\r\n      <g>\r\n       <use style=\"stroke:#000000;stroke-width:0.8;\" x=\"351.33325\" xlink:href=\"#m0eaaa55503\" y=\"60.159585\"/>\r\n      </g>\r\n     </g>\r\n     <g id=\"text_33\">\r\n      <!-- 0.6 -->\r\n      <g transform=\"translate(358.33325 63.958804)scale(0.1 -0.1)\">\r\n       <use xlink:href=\"#DejaVuSans-48\"/>\r\n       <use x=\"63.623047\" xlink:href=\"#DejaVuSans-46\"/>\r\n       <use x=\"95.410156\" xlink:href=\"#DejaVuSans-54\"/>\r\n      </g>\r\n     </g>\r\n    </g>\r\n    <g id=\"ytick_21\">\r\n     <g id=\"line2d_34\">\r\n      <g>\r\n       <use style=\"stroke:#000000;stroke-width:0.8;\" x=\"351.33325\" xlink:href=\"#m0eaaa55503\" y=\"35.579402\"/>\r\n      </g>\r\n     </g>\r\n     <g id=\"text_34\">\r\n      <!-- 0.8 -->\r\n      <g transform=\"translate(358.33325 39.378621)scale(0.1 -0.1)\">\r\n       <defs>\r\n        <path d=\"M 31.78125 34.625 \r\nQ 24.75 34.625 20.71875 30.859375 \r\nQ 16.703125 27.09375 16.703125 20.515625 \r\nQ 16.703125 13.921875 20.71875 10.15625 \r\nQ 24.75 6.390625 31.78125 6.390625 \r\nQ 38.8125 6.390625 42.859375 10.171875 \r\nQ 46.921875 13.96875 46.921875 20.515625 \r\nQ 46.921875 27.09375 42.890625 30.859375 \r\nQ 38.875 34.625 31.78125 34.625 \r\nz\r\nM 21.921875 38.8125 \r\nQ 15.578125 40.375 12.03125 44.71875 \r\nQ 8.5 49.078125 8.5 55.328125 \r\nQ 8.5 64.0625 14.71875 69.140625 \r\nQ 20.953125 74.21875 31.78125 74.21875 \r\nQ 42.671875 74.21875 48.875 69.140625 \r\nQ 55.078125 64.0625 55.078125 55.328125 \r\nQ 55.078125 49.078125 51.53125 44.71875 \r\nQ 48 40.375 41.703125 38.8125 \r\nQ 48.828125 37.15625 52.796875 32.3125 \r\nQ 56.78125 27.484375 56.78125 20.515625 \r\nQ 56.78125 9.90625 50.3125 4.234375 \r\nQ 43.84375 -1.421875 31.78125 -1.421875 \r\nQ 19.734375 -1.421875 13.25 4.234375 \r\nQ 6.78125 9.90625 6.78125 20.515625 \r\nQ 6.78125 27.484375 10.78125 32.3125 \r\nQ 14.796875 37.15625 21.921875 38.8125 \r\nz\r\nM 18.3125 54.390625 \r\nQ 18.3125 48.734375 21.84375 45.5625 \r\nQ 25.390625 42.390625 31.78125 42.390625 \r\nQ 38.140625 42.390625 41.71875 45.5625 \r\nQ 45.3125 48.734375 45.3125 54.390625 \r\nQ 45.3125 60.0625 41.71875 63.234375 \r\nQ 38.140625 66.40625 31.78125 66.40625 \r\nQ 25.390625 66.40625 21.84375 63.234375 \r\nQ 18.3125 60.0625 18.3125 54.390625 \r\nz\r\n\" id=\"DejaVuSans-56\"/>\r\n       </defs>\r\n       <use xlink:href=\"#DejaVuSans-48\"/>\r\n       <use x=\"63.623047\" xlink:href=\"#DejaVuSans-46\"/>\r\n       <use x=\"95.410156\" xlink:href=\"#DejaVuSans-56\"/>\r\n      </g>\r\n     </g>\r\n    </g>\r\n    <g id=\"ytick_22\">\r\n     <g id=\"line2d_35\">\r\n      <g>\r\n       <use style=\"stroke:#000000;stroke-width:0.8;\" x=\"351.33325\" xlink:href=\"#m0eaaa55503\" y=\"10.999219\"/>\r\n      </g>\r\n     </g>\r\n     <g id=\"text_35\">\r\n      <!-- 1.0 -->\r\n      <g transform=\"translate(358.33325 14.798438)scale(0.1 -0.1)\">\r\n       <defs>\r\n        <path d=\"M 12.40625 8.296875 \r\nL 28.515625 8.296875 \r\nL 28.515625 63.921875 \r\nL 10.984375 60.40625 \r\nL 10.984375 69.390625 \r\nL 28.421875 72.90625 \r\nL 38.28125 72.90625 \r\nL 38.28125 8.296875 \r\nL 54.390625 8.296875 \r\nL 54.390625 0 \r\nL 12.40625 0 \r\nz\r\n\" id=\"DejaVuSans-49\"/>\r\n       </defs>\r\n       <use xlink:href=\"#DejaVuSans-49\"/>\r\n       <use x=\"63.623047\" xlink:href=\"#DejaVuSans-46\"/>\r\n       <use x=\"95.410156\" xlink:href=\"#DejaVuSans-48\"/>\r\n      </g>\r\n     </g>\r\n    </g>\r\n   </g>\r\n   <g id=\"patch_4\">\r\n    <path d=\"M 340.46125 228.439219 \r\nL 340.46125 227.589844 \r\nL 340.46125 11.848594 \r\nL 340.46125 10.999219 \r\nL 351.33325 10.999219 \r\nL 351.33325 11.848594 \r\nL 351.33325 227.589844 \r\nL 351.33325 228.439219 \r\nz\r\n\" style=\"fill:none;\"/>\r\n   </g>\r\n  </g>\r\n </g>\r\n <defs>\r\n  <clipPath id=\"p61576e154a\">\r\n   <rect height=\"217.44\" width=\"267.84\" x=\"55.88125\" y=\"10.999219\"/>\r\n  </clipPath>\r\n  <clipPath id=\"p182f12eba9\">\r\n   <rect height=\"217.44\" width=\"10.872\" x=\"340.46125\" y=\"10.999219\"/>\r\n  </clipPath>\r\n </defs>\r\n</svg>\r\n",
      "text/plain": [
       "<Figure size 432x288 with 2 Axes>"
      ]
     },
     "metadata": {
      "needs_background": "light"
     },
     "output_type": "display_data"
    }
   ],
   "source": [
    "# plotting correlation between columns\n",
    "sns.heatmap(df.corr(),cmap='coolwarm',annot=False)"
   ]
  },
  {
   "cell_type": "code",
   "execution_count": 88,
   "metadata": {},
   "outputs": [],
   "source": [
    "# preparing the target and feture columns\n",
    "df['target']= data.target\n",
    "X = df.drop(['target'], axis = 1)\n",
    "Y = df['target']"
   ]
  },
  {
   "cell_type": "code",
   "execution_count": 89,
   "metadata": {},
   "outputs": [],
   "source": [
    "# this step is done to split the data into training and testing\n",
    "from sklearn.model_selection import train_test_split\n",
    "X_train, X_test, Y_train, Y_test = train_test_split(X, Y, test_size = 0.25, random_state=100)"
   ]
  },
  {
   "cell_type": "code",
   "execution_count": 90,
   "metadata": {},
   "outputs": [],
   "source": [
    "# training the Linear Regression model\n",
    "from sklearn.linear_model import LinearRegression"
   ]
  },
  {
   "cell_type": "code",
   "execution_count": 91,
   "metadata": {},
   "outputs": [
    {
     "data": {
      "text/plain": [
       "LinearRegression()"
      ]
     },
     "execution_count": 91,
     "metadata": {},
     "output_type": "execute_result"
    }
   ],
   "source": [
    "# fitting the linear regression model\n",
    "lm = LinearRegression()\n",
    "lm.fit(X_train, Y_train)"
   ]
  },
  {
   "cell_type": "code",
   "execution_count": 99,
   "metadata": {},
   "outputs": [
    {
     "name": "stdout",
     "output_type": "stream",
     "text": [
      "RMSE_lm = 5.212786603443838\n",
      "R2_lm = 0.7246154314616744\n"
     ]
    }
   ],
   "source": [
    "# evaluating the Linear Regression model for the test set\n",
    "from sklearn.metrics import mean_squared_error, r2_score\n",
    "predictions = lm.predict(X_test)\n",
    "RMSE_lm = np.sqrt(mean_squared_error(Y_test, predictions))\n",
    "r2_lm = r2_score(Y_test, predictions)\n",
    "print('RMSE_lm = {}'.format(RMSE_lm))\n",
    "print('R2_lm = {}'.format(r2_lm))"
   ]
  },
  {
   "cell_type": "code",
   "execution_count": null,
   "metadata": {},
   "outputs": [],
   "source": []
  }
 ],
 "metadata": {
  "interpreter": {
   "hash": "594466f298bc55e3ef327a3727807711fea6f7d5db7af4217c328027f6bbcf6f"
  },
  "kernelspec": {
   "display_name": "Python 3.9.2 64-bit",
   "name": "python3"
  },
  "language_info": {
   "codemirror_mode": {
    "name": "ipython",
    "version": 3
   },
   "file_extension": ".py",
   "mimetype": "text/x-python",
   "name": "python",
   "nbconvert_exporter": "python",
   "pygments_lexer": "ipython3",
   "version": "3.9.7"
  },
  "metadata": {
   "interpreter": {
    "hash": "594466f298bc55e3ef327a3727807711fea6f7d5db7af4217c328027f6bbcf6f"
   }
  },
  "orig_nbformat": 2
 },
 "nbformat": 4,
 "nbformat_minor": 2
}
